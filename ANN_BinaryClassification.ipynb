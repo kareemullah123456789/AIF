{
  "nbformat": 4,
  "nbformat_minor": 0,
  "metadata": {
    "colab": {
      "provenance": [],
      "include_colab_link": true
    },
    "kernelspec": {
      "name": "python3",
      "display_name": "Python 3"
    },
    "language_info": {
      "name": "python"
    }
  },
  "cells": [
    {
      "cell_type": "markdown",
      "metadata": {
        "id": "view-in-github",
        "colab_type": "text"
      },
      "source": [
        "<a href=\"https://colab.research.google.com/github/kareemullah123456789/AIF/blob/main/ANN_BinaryClassification.ipynb\" target=\"_parent\"><img src=\"https://colab.research.google.com/assets/colab-badge.svg\" alt=\"Open In Colab\"/></a>"
      ]
    },
    {
      "cell_type": "code",
      "source": [
        "from google.colab import drive\n",
        "drive.mount('/content/drive')"
      ],
      "metadata": {
        "colab": {
          "base_uri": "https://localhost:8080/"
        },
        "id": "M7QdP4zrHtNh",
        "outputId": "1e882690-efd3-47d8-a513-e6205fd755af"
      },
      "execution_count": 1,
      "outputs": [
        {
          "output_type": "stream",
          "name": "stdout",
          "text": [
            "Mounted at /content/drive\n"
          ]
        }
      ]
    },
    {
      "cell_type": "code",
      "execution_count": 2,
      "metadata": {
        "id": "3CKyZibYlLDm"
      },
      "outputs": [],
      "source": [
        "# ==============================\n",
        "# STEP 1: Import required libraries\n",
        "# ==============================\n",
        "import pandas as pd\n",
        "import numpy as np\n",
        "import seaborn as sns\n",
        "import matplotlib.pyplot as plt\n",
        "\n",
        "from google.colab import drive\n",
        "from sklearn.model_selection import train_test_split\n",
        "from sklearn.preprocessing import OneHotEncoder, StandardScaler\n",
        "from sklearn.compose import ColumnTransformer\n",
        "from sklearn.pipeline import Pipeline\n",
        "from sklearn.metrics import accuracy_score, confusion_matrix\n",
        "\n",
        "from tensorflow.keras.models import Sequential\n",
        "from tensorflow.keras.layers import Dense, Dropout"
      ]
    },
    {
      "cell_type": "code",
      "source": [
        "# ==============================\n",
        "# STEP 2: Load dataset from Google Drive\n",
        "# ==============================\n",
        "#drive.mount('/content/drive')\n",
        "data = pd.read_csv(\"/content/drive/MyDrive/AIF/1_Churn_Modelling.csv\")\n",
        "\n",
        "# Business Problem: Predict whether customers will leave the bank (Exited=1) or not (Exited=0)\n",
        "data.head()\n",
        "target = \"Exited\"\n",
        "print(data.columns)"
      ],
      "metadata": {
        "id": "4WIqFkZS67w6",
        "colab": {
          "base_uri": "https://localhost:8080/"
        },
        "outputId": "da078c37-c652-4f44-8c81-d1598d45d9cd"
      },
      "execution_count": 3,
      "outputs": [
        {
          "output_type": "stream",
          "name": "stdout",
          "text": [
            "Index(['RowNumber', 'CustomerId', 'Surname', 'CreditScore', 'Geography',\n",
            "       'Gender', 'Age', 'Tenure', 'Balance', 'NumOfProducts', 'HasCrCard',\n",
            "       'IsActiveMember', 'EstimatedSalary', 'Exited'],\n",
            "      dtype='object')\n"
          ]
        }
      ]
    },
    {
      "cell_type": "code",
      "source": [
        "# Check for missing values\n",
        "print(data.isnull().sum())\n",
        "\n",
        "# Explore categorical variables\n",
        "print(data.Geography.unique())\n",
        "print(data.Gender.unique())"
      ],
      "metadata": {
        "colab": {
          "base_uri": "https://localhost:8080/"
        },
        "id": "f9q7D4Rg7MgW",
        "outputId": "8fad8148-0735-4b8d-fcd5-18e0637f90ee"
      },
      "execution_count": 4,
      "outputs": [
        {
          "output_type": "stream",
          "name": "stdout",
          "text": [
            "RowNumber          0\n",
            "CustomerId         0\n",
            "Surname            0\n",
            "CreditScore        0\n",
            "Geography          0\n",
            "Gender             0\n",
            "Age                0\n",
            "Tenure             0\n",
            "Balance            0\n",
            "NumOfProducts      0\n",
            "HasCrCard          0\n",
            "IsActiveMember     0\n",
            "EstimatedSalary    0\n",
            "Exited             0\n",
            "dtype: int64\n",
            "['France' 'Spain' 'Germany']\n",
            "['Female' 'Male']\n"
          ]
        }
      ]
    },
    {
      "cell_type": "code",
      "source": [
        "# Features and target\n",
        "x = data.drop([target], axis=1)\n",
        "y = data[target]"
      ],
      "metadata": {
        "id": "SuIfkzN6CfP3"
      },
      "execution_count": 5,
      "outputs": []
    },
    {
      "cell_type": "code",
      "source": [
        "# Identify categorical and numerical columns\n",
        "drop_columns = [\"RowNumber\", \"CustomerId\", \"Surname\"]\n",
        "x = x.drop(drop_columns, axis=1)\n",
        "categorical_cols = x.select_dtypes(include=['object']).columns.to_list()\n",
        "numerical_cols = x.select_dtypes(include=['float64', 'int64']).columns.to_list()\n",
        "print(categorical_cols, numerical_cols)"
      ],
      "metadata": {
        "id": "2MJb322KCjDu",
        "colab": {
          "base_uri": "https://localhost:8080/"
        },
        "outputId": "3a48d349-0df0-4056-cac6-9f1359a254b5"
      },
      "execution_count": 6,
      "outputs": [
        {
          "output_type": "stream",
          "name": "stdout",
          "text": [
            "['Geography', 'Gender'] ['CreditScore', 'Age', 'Tenure', 'Balance', 'NumOfProducts', 'HasCrCard', 'IsActiveMember', 'EstimatedSalary']\n"
          ]
        }
      ]
    },
    {
      "cell_type": "code",
      "source": [
        "# Define ColumnTransformer\n",
        "preprocessor = ColumnTransformer(\n",
        "    transformers=[\n",
        "        (\"cat\", OneHotEncoder(drop=\"first\", handle_unknown=\"ignore\"), categorical_cols),\n",
        "        (\"num\", StandardScaler(), numerical_cols)\n",
        "    ]\n",
        ")"
      ],
      "metadata": {
        "id": "MiwMDAISb8GY"
      },
      "execution_count": 7,
      "outputs": []
    },
    {
      "cell_type": "code",
      "source": [
        "# Train-test split\n",
        "x_train_raw, x_test_raw, y_train, y_test = train_test_split(x, y, test_size=0.2, random_state=42)\n"
      ],
      "metadata": {
        "id": "UxGd7GPbCunl"
      },
      "execution_count": 8,
      "outputs": []
    },
    {
      "cell_type": "code",
      "source": [
        "x_train = preprocessor.fit_transform(x_train_raw)\n",
        "x_test = preprocessor.transform(x_test_raw)"
      ],
      "metadata": {
        "id": "D6k8HNtFFggL"
      },
      "execution_count": 9,
      "outputs": []
    },
    {
      "cell_type": "code",
      "source": [
        "x_train.shape[1]"
      ],
      "metadata": {
        "colab": {
          "base_uri": "https://localhost:8080/"
        },
        "id": "Raz1eNayWRPy",
        "outputId": "0250fce1-f304-4b28-f1c5-31412f4c5e35"
      },
      "execution_count": 10,
      "outputs": [
        {
          "output_type": "execute_result",
          "data": {
            "text/plain": [
              "11"
            ]
          },
          "metadata": {},
          "execution_count": 10
        }
      ]
    },
    {
      "cell_type": "code",
      "source": [],
      "metadata": {
        "id": "J9lkXCBZI_Dc"
      },
      "execution_count": null,
      "outputs": []
    },
    {
      "cell_type": "markdown",
      "source": [
        "3 ReLU hidden layers (20 → 32 → 64 units).\n",
        "\n",
        "He uniform init for weights.\n",
        "\n",
        "Single linear output for continuous target.\n",
        "\n",
        "Compiled with MSE loss and Adam optimizer.\n",
        "\n",
        "Trains for 100 epochs with 20% validation split."
      ],
      "metadata": {
        "id": "iIYxRQ18JBII"
      }
    },
    {
      "cell_type": "markdown",
      "source": [],
      "metadata": {
        "id": "g7xWC9XaI_bD"
      }
    },
    {
      "cell_type": "markdown",
      "source": [
        "Practical tuning checklist (order matters)\n",
        "\n",
        "Scale features.\n",
        "\n",
        "Tune learning rate (factor of 10 grid). Most important.\n",
        "\n",
        "Try smaller network first, then increase width/depth if underfitting.\n",
        "\n",
        "Use EarlyStopping to avoid excess epochs.\n",
        "\n",
        "Add L2 or Dropout if validation loss diverges.\n",
        "\n",
        "Try AdamW or SGD+Momentum for better generalization on large data.\n",
        "\n",
        "Monitor residuals and predictions vs truth scatter."
      ],
      "metadata": {
        "id": "uGUdmAiyJQ-U"
      }
    },
    {
      "cell_type": "code",
      "source": [],
      "metadata": {
        "id": "KgWiMUTy39yD"
      },
      "execution_count": null,
      "outputs": []
    },
    {
      "cell_type": "code",
      "source": [],
      "metadata": {
        "colab": {
          "base_uri": "https://localhost:8080/",
          "height": 211
        },
        "id": "DMWIJd7P3_hf",
        "outputId": "0af3753b-f594-4ff8-8d1c-8ceb95e68859"
      },
      "execution_count": 13,
      "outputs": [
        {
          "output_type": "error",
          "ename": "NameError",
          "evalue": "name 'model' is not defined",
          "traceback": [
            "\u001b[0;31m---------------------------------------------------------------------------\u001b[0m",
            "\u001b[0;31mNameError\u001b[0m                                 Traceback (most recent call last)",
            "\u001b[0;32m/tmp/ipython-input-2861732237.py\u001b[0m in \u001b[0;36m<cell line: 0>\u001b[0;34m()\u001b[0m\n\u001b[1;32m     29\u001b[0m \u001b[0;34m\u001b[0m\u001b[0m\n\u001b[1;32m     30\u001b[0m \u001b[0;31m# Fit with callbacks (replace existing model.fit call)\u001b[0m\u001b[0;34m\u001b[0m\u001b[0;34m\u001b[0m\u001b[0m\n\u001b[0;32m---> 31\u001b[0;31m history = model.fit(\n\u001b[0m\u001b[1;32m     32\u001b[0m     \u001b[0mx_train\u001b[0m\u001b[0;34m,\u001b[0m \u001b[0my_train\u001b[0m\u001b[0;34m,\u001b[0m\u001b[0;34m\u001b[0m\u001b[0;34m\u001b[0m\u001b[0m\n\u001b[1;32m     33\u001b[0m     \u001b[0mvalidation_split\u001b[0m\u001b[0;34m=\u001b[0m\u001b[0;36m0.2\u001b[0m\u001b[0;34m,\u001b[0m\u001b[0;34m\u001b[0m\u001b[0;34m\u001b[0m\u001b[0m\n",
            "\u001b[0;31mNameError\u001b[0m: name 'model' is not defined"
          ]
        }
      ]
    },
    {
      "cell_type": "code",
      "source": [
        "# ==============================\n",
        "# Build ANN Model\n",
        "# ==============================\n",
        "model = Sequential()\n",
        "\n",
        "# Input + First hidden layer\n",
        "model.add(Dense(units=16, input_dim=x_train.shape[1], activation='relu', kernel_initializer='he_uniform'))\n",
        "\n",
        "# Second hidden layer\n",
        "model.add(Dense(units=32, activation='relu', kernel_initializer='he_uniform'))\n",
        "\n",
        "# Third hidden layer\n",
        "model.add(Dense(units=64, activation='relu', kernel_initializer='he_uniform'))\n",
        "\n",
        "# Output layer (sigmoid for binary classification)\n",
        "model.add(Dense(units=1, activation='sigmoid', kernel_initializer='glorot_uniform'))\n",
        "\n",
        "model.summary()"
      ],
      "metadata": {
        "colab": {
          "base_uri": "https://localhost:8080/",
          "height": 312
        },
        "id": "L-1g72qTIeh8",
        "outputId": "6f40cc18-d932-4d6e-bf6b-f22d7881cb93"
      },
      "execution_count": 14,
      "outputs": [
        {
          "output_type": "stream",
          "name": "stderr",
          "text": [
            "/usr/local/lib/python3.12/dist-packages/keras/src/layers/core/dense.py:93: UserWarning: Do not pass an `input_shape`/`input_dim` argument to a layer. When using Sequential models, prefer using an `Input(shape)` object as the first layer in the model instead.\n",
            "  super().__init__(activity_regularizer=activity_regularizer, **kwargs)\n"
          ]
        },
        {
          "output_type": "display_data",
          "data": {
            "text/plain": [
              "\u001b[1mModel: \"sequential\"\u001b[0m\n"
            ],
            "text/html": [
              "<pre style=\"white-space:pre;overflow-x:auto;line-height:normal;font-family:Menlo,'DejaVu Sans Mono',consolas,'Courier New',monospace\"><span style=\"font-weight: bold\">Model: \"sequential\"</span>\n",
              "</pre>\n"
            ]
          },
          "metadata": {}
        },
        {
          "output_type": "display_data",
          "data": {
            "text/plain": [
              "┏━━━━━━━━━━━━━━━━━━━━━━━━━━━━━━━━━┳━━━━━━━━━━━━━━━━━━━━━━━━┳━━━━━━━━━━━━━━━┓\n",
              "┃\u001b[1m \u001b[0m\u001b[1mLayer (type)                   \u001b[0m\u001b[1m \u001b[0m┃\u001b[1m \u001b[0m\u001b[1mOutput Shape          \u001b[0m\u001b[1m \u001b[0m┃\u001b[1m \u001b[0m\u001b[1m      Param #\u001b[0m\u001b[1m \u001b[0m┃\n",
              "┡━━━━━━━━━━━━━━━━━━━━━━━━━━━━━━━━━╇━━━━━━━━━━━━━━━━━━━━━━━━╇━━━━━━━━━━━━━━━┩\n",
              "│ dense (\u001b[38;5;33mDense\u001b[0m)                   │ (\u001b[38;5;45mNone\u001b[0m, \u001b[38;5;34m16\u001b[0m)             │           \u001b[38;5;34m192\u001b[0m │\n",
              "├─────────────────────────────────┼────────────────────────┼───────────────┤\n",
              "│ dense_1 (\u001b[38;5;33mDense\u001b[0m)                 │ (\u001b[38;5;45mNone\u001b[0m, \u001b[38;5;34m32\u001b[0m)             │           \u001b[38;5;34m544\u001b[0m │\n",
              "├─────────────────────────────────┼────────────────────────┼───────────────┤\n",
              "│ dense_2 (\u001b[38;5;33mDense\u001b[0m)                 │ (\u001b[38;5;45mNone\u001b[0m, \u001b[38;5;34m64\u001b[0m)             │         \u001b[38;5;34m2,112\u001b[0m │\n",
              "├─────────────────────────────────┼────────────────────────┼───────────────┤\n",
              "│ dense_3 (\u001b[38;5;33mDense\u001b[0m)                 │ (\u001b[38;5;45mNone\u001b[0m, \u001b[38;5;34m1\u001b[0m)              │            \u001b[38;5;34m65\u001b[0m │\n",
              "└─────────────────────────────────┴────────────────────────┴───────────────┘\n"
            ],
            "text/html": [
              "<pre style=\"white-space:pre;overflow-x:auto;line-height:normal;font-family:Menlo,'DejaVu Sans Mono',consolas,'Courier New',monospace\">┏━━━━━━━━━━━━━━━━━━━━━━━━━━━━━━━━━┳━━━━━━━━━━━━━━━━━━━━━━━━┳━━━━━━━━━━━━━━━┓\n",
              "┃<span style=\"font-weight: bold\"> Layer (type)                    </span>┃<span style=\"font-weight: bold\"> Output Shape           </span>┃<span style=\"font-weight: bold\">       Param # </span>┃\n",
              "┡━━━━━━━━━━━━━━━━━━━━━━━━━━━━━━━━━╇━━━━━━━━━━━━━━━━━━━━━━━━╇━━━━━━━━━━━━━━━┩\n",
              "│ dense (<span style=\"color: #0087ff; text-decoration-color: #0087ff\">Dense</span>)                   │ (<span style=\"color: #00d7ff; text-decoration-color: #00d7ff\">None</span>, <span style=\"color: #00af00; text-decoration-color: #00af00\">16</span>)             │           <span style=\"color: #00af00; text-decoration-color: #00af00\">192</span> │\n",
              "├─────────────────────────────────┼────────────────────────┼───────────────┤\n",
              "│ dense_1 (<span style=\"color: #0087ff; text-decoration-color: #0087ff\">Dense</span>)                 │ (<span style=\"color: #00d7ff; text-decoration-color: #00d7ff\">None</span>, <span style=\"color: #00af00; text-decoration-color: #00af00\">32</span>)             │           <span style=\"color: #00af00; text-decoration-color: #00af00\">544</span> │\n",
              "├─────────────────────────────────┼────────────────────────┼───────────────┤\n",
              "│ dense_2 (<span style=\"color: #0087ff; text-decoration-color: #0087ff\">Dense</span>)                 │ (<span style=\"color: #00d7ff; text-decoration-color: #00d7ff\">None</span>, <span style=\"color: #00af00; text-decoration-color: #00af00\">64</span>)             │         <span style=\"color: #00af00; text-decoration-color: #00af00\">2,112</span> │\n",
              "├─────────────────────────────────┼────────────────────────┼───────────────┤\n",
              "│ dense_3 (<span style=\"color: #0087ff; text-decoration-color: #0087ff\">Dense</span>)                 │ (<span style=\"color: #00d7ff; text-decoration-color: #00d7ff\">None</span>, <span style=\"color: #00af00; text-decoration-color: #00af00\">1</span>)              │            <span style=\"color: #00af00; text-decoration-color: #00af00\">65</span> │\n",
              "└─────────────────────────────────┴────────────────────────┴───────────────┘\n",
              "</pre>\n"
            ]
          },
          "metadata": {}
        },
        {
          "output_type": "display_data",
          "data": {
            "text/plain": [
              "\u001b[1m Total params: \u001b[0m\u001b[38;5;34m2,913\u001b[0m (11.38 KB)\n"
            ],
            "text/html": [
              "<pre style=\"white-space:pre;overflow-x:auto;line-height:normal;font-family:Menlo,'DejaVu Sans Mono',consolas,'Courier New',monospace\"><span style=\"font-weight: bold\"> Total params: </span><span style=\"color: #00af00; text-decoration-color: #00af00\">2,913</span> (11.38 KB)\n",
              "</pre>\n"
            ]
          },
          "metadata": {}
        },
        {
          "output_type": "display_data",
          "data": {
            "text/plain": [
              "\u001b[1m Trainable params: \u001b[0m\u001b[38;5;34m2,913\u001b[0m (11.38 KB)\n"
            ],
            "text/html": [
              "<pre style=\"white-space:pre;overflow-x:auto;line-height:normal;font-family:Menlo,'DejaVu Sans Mono',consolas,'Courier New',monospace\"><span style=\"font-weight: bold\"> Trainable params: </span><span style=\"color: #00af00; text-decoration-color: #00af00\">2,913</span> (11.38 KB)\n",
              "</pre>\n"
            ]
          },
          "metadata": {}
        },
        {
          "output_type": "display_data",
          "data": {
            "text/plain": [
              "\u001b[1m Non-trainable params: \u001b[0m\u001b[38;5;34m0\u001b[0m (0.00 B)\n"
            ],
            "text/html": [
              "<pre style=\"white-space:pre;overflow-x:auto;line-height:normal;font-family:Menlo,'DejaVu Sans Mono',consolas,'Courier New',monospace\"><span style=\"font-weight: bold\"> Non-trainable params: </span><span style=\"color: #00af00; text-decoration-color: #00af00\">0</span> (0.00 B)\n",
              "</pre>\n"
            ]
          },
          "metadata": {}
        }
      ]
    },
    {
      "cell_type": "code",
      "source": [],
      "metadata": {
        "id": "2-AfWeFZ4gX-"
      },
      "execution_count": null,
      "outputs": []
    },
    {
      "cell_type": "code",
      "source": [
        "# ==============================\n",
        "# Compile the model\n",
        "# ==============================\n",
        "model.compile(loss='binary_crossentropy',\n",
        "              optimizer='adam',\n",
        "              metrics=['accuracy'])\n"
      ],
      "metadata": {
        "id": "9kE5LMgBIool"
      },
      "execution_count": 15,
      "outputs": []
    },
    {
      "cell_type": "code",
      "source": [
        "# # --- Code cell: callbacks + training with EarlyStopping ---\n",
        "# from tensorflow.keras.callbacks import EarlyStopping, ReduceLROnPlateau, ModelCheckpoint\n",
        "\n",
        "# # Early stopping: stop when validation loss stops improving\n",
        "# es = EarlyStopping(\n",
        "#     monitor='val_loss',         # what to watch (use 'val_accuracy' if you prefer)\n",
        "#     patience=8,                 # wait this many epochs with no improvement\n",
        "#     min_delta=1e-4,             # minimum change to qualify as improvement\n",
        "#     restore_best_weights=True,  # after stop, keep weights from best epoch\n",
        "#     verbose=1\n",
        "# )\n",
        "\n",
        "# # Reduce LR on plateau: lower LR when val_loss plateaus\n",
        "# rlp = ReduceLROnPlateau(\n",
        "#     monitor='val_loss',\n",
        "#     factor=0.5,     # LR = LR * factor\n",
        "#     patience=4,\n",
        "#     min_lr=1e-6,\n",
        "#     verbose=1\n",
        "# )\n",
        "\n",
        "# # Save best model to disk\n",
        "# mc = ModelCheckpoint(\n",
        "#     'best_model.h5',\n",
        "#     monitor='val_loss',\n",
        "#     save_best_only=True,\n",
        "#     verbose=1\n",
        "# )\n",
        "\n",
        "# # Fit with callbacks (replace existing model.fit call)\n",
        "# history = model.fit(\n",
        "#     x_train, y_train,\n",
        "#     validation_split=0.2,\n",
        "#     epochs=50,\n",
        "#     batch_size=32,\n",
        "#     verbose=1,\n",
        "#     callbacks=[es, rlp, mc]\n",
        "# )\n",
        "\n",
        "# # Optional: print best epoch info (colab-friendly)\n",
        "# best_epoch = int(np.argmin(history.history['val_loss']) + 1)\n",
        "# best_val_loss = np.min(history.history['val_loss'])\n",
        "# print(f\"Best epoch (by val_loss): {best_epoch}, val_loss={best_val_loss:.6f}\")\n"
      ],
      "metadata": {
        "id": "5chKeA_14if_"
      },
      "execution_count": 18,
      "outputs": []
    },
    {
      "cell_type": "markdown",
      "source": [
        "Early stopping stops training when the monitored metric (here val_loss) stops improving.\n",
        "Key options:\n",
        "- monitor: which metric to watch. Use 'val_loss' for stable objective or 'val_accuracy' for classification accuracy.\n",
        "- patience: how many epochs to wait after the last improvement before stopping. Smaller patience stops earlier. Typical: 3–10.\n",
        "- min_delta: minimum improvement considered significant.\n",
        "- restore_best_weights: when True the model is returned to the weights from the best epoch.\n",
        "\n",
        "ReduceLROnPlateau lowers the learning rate when the monitored metric plateaus. This helps escape small plateaus and find finer minima.\n",
        "\n",
        "ModelCheckpoint saves the best model (by monitored metric) to disk so you can load it later without re-training.\n",
        "\n",
        "Why use them:\n",
        "- Avoid wasted epochs once performance stops improving.\n",
        "- Prevent overfitting by stopping before validation gets worse.\n",
        "- Automate LR tuning during training.\n",
        "- Persist the best model automatically.\n",
        "\n",
        "Tradeoffs and tips:\n",
        "- If patience is too small you may stop before genuine slow improvements. Set 5–10 for noisy datasets.\n",
        "- Monitor validation metric, not training metric.\n",
        "- Combine EarlyStopping + RestoreBestWeights + ModelCheckpoint for safety.\n",
        "- If training never improves, debug data scaling, architecture, or LR.\n"
      ],
      "metadata": {
        "id": "rURXUoMg46Qo"
      }
    },
    {
      "cell_type": "code",
      "source": [
        "# ==============================\n",
        "# Train the model\n",
        "# ==============================\n",
        "history = model.fit(x_train, y_train,\n",
        "                    validation_split=0.2,\n",
        "                    epochs=50,\n",
        "                    batch_size=32,\n",
        "                    verbose=1)"
      ],
      "metadata": {
        "colab": {
          "base_uri": "https://localhost:8080/"
        },
        "id": "S1w_x_2nIyJ_",
        "outputId": "8e20bea3-6b4b-410c-b719-bfc44f181ea7"
      },
      "execution_count": null,
      "outputs": [
        {
          "output_type": "stream",
          "name": "stdout",
          "text": [
            "Epoch 1/50\n",
            "\u001b[1m200/200\u001b[0m \u001b[32m━━━━━━━━━━━━━━━━━━━━\u001b[0m\u001b[37m\u001b[0m \u001b[1m2s\u001b[0m 4ms/step - accuracy: 0.7996 - loss: 0.5328 - val_accuracy: 0.8325 - val_loss: 0.4321\n",
            "Epoch 2/50\n",
            "\u001b[1m200/200\u001b[0m \u001b[32m━━━━━━━━━━━━━━━━━━━━\u001b[0m\u001b[37m\u001b[0m \u001b[1m0s\u001b[0m 2ms/step - accuracy: 0.8169 - loss: 0.4211 - val_accuracy: 0.8363 - val_loss: 0.3897\n",
            "Epoch 3/50\n",
            "\u001b[1m200/200\u001b[0m \u001b[32m━━━━━━━━━━━━━━━━━━━━\u001b[0m\u001b[37m\u001b[0m \u001b[1m0s\u001b[0m 2ms/step - accuracy: 0.8383 - loss: 0.3821 - val_accuracy: 0.8438 - val_loss: 0.3757\n",
            "Epoch 4/50\n",
            "\u001b[1m200/200\u001b[0m \u001b[32m━━━━━━━━━━━━━━━━━━━━\u001b[0m\u001b[37m\u001b[0m \u001b[1m0s\u001b[0m 2ms/step - accuracy: 0.8560 - loss: 0.3604 - val_accuracy: 0.8506 - val_loss: 0.3591\n",
            "Epoch 5/50\n",
            "\u001b[1m200/200\u001b[0m \u001b[32m━━━━━━━━━━━━━━━━━━━━\u001b[0m\u001b[37m\u001b[0m \u001b[1m1s\u001b[0m 2ms/step - accuracy: 0.8505 - loss: 0.3538 - val_accuracy: 0.8481 - val_loss: 0.3546\n",
            "Epoch 6/50\n",
            "\u001b[1m200/200\u001b[0m \u001b[32m━━━━━━━━━━━━━━━━━━━━\u001b[0m\u001b[37m\u001b[0m \u001b[1m0s\u001b[0m 2ms/step - accuracy: 0.8517 - loss: 0.3534 - val_accuracy: 0.8519 - val_loss: 0.3611\n",
            "Epoch 7/50\n",
            "\u001b[1m200/200\u001b[0m \u001b[32m━━━━━━━━━━━━━━━━━━━━\u001b[0m\u001b[37m\u001b[0m \u001b[1m1s\u001b[0m 2ms/step - accuracy: 0.8550 - loss: 0.3429 - val_accuracy: 0.8487 - val_loss: 0.3546\n",
            "Epoch 8/50\n",
            "\u001b[1m200/200\u001b[0m \u001b[32m━━━━━━━━━━━━━━━━━━━━\u001b[0m\u001b[37m\u001b[0m \u001b[1m0s\u001b[0m 2ms/step - accuracy: 0.8550 - loss: 0.3398 - val_accuracy: 0.8506 - val_loss: 0.3608\n",
            "Epoch 9/50\n",
            "\u001b[1m200/200\u001b[0m \u001b[32m━━━━━━━━━━━━━━━━━━━━\u001b[0m\u001b[37m\u001b[0m \u001b[1m0s\u001b[0m 2ms/step - accuracy: 0.8562 - loss: 0.3465 - val_accuracy: 0.8456 - val_loss: 0.3539\n",
            "Epoch 10/50\n",
            "\u001b[1m200/200\u001b[0m \u001b[32m━━━━━━━━━━━━━━━━━━━━\u001b[0m\u001b[37m\u001b[0m \u001b[1m1s\u001b[0m 1ms/step - accuracy: 0.8631 - loss: 0.3330 - val_accuracy: 0.8537 - val_loss: 0.3501\n",
            "Epoch 11/50\n",
            "\u001b[1m200/200\u001b[0m \u001b[32m━━━━━━━━━━━━━━━━━━━━\u001b[0m\u001b[37m\u001b[0m \u001b[1m1s\u001b[0m 3ms/step - accuracy: 0.8613 - loss: 0.3312 - val_accuracy: 0.8519 - val_loss: 0.3479\n",
            "Epoch 12/50\n",
            "\u001b[1m200/200\u001b[0m \u001b[32m━━━━━━━━━━━━━━━━━━━━\u001b[0m\u001b[37m\u001b[0m \u001b[1m0s\u001b[0m 2ms/step - accuracy: 0.8669 - loss: 0.3303 - val_accuracy: 0.8506 - val_loss: 0.3462\n",
            "Epoch 13/50\n",
            "\u001b[1m200/200\u001b[0m \u001b[32m━━━━━━━━━━━━━━━━━━━━\u001b[0m\u001b[37m\u001b[0m \u001b[1m1s\u001b[0m 2ms/step - accuracy: 0.8735 - loss: 0.3149 - val_accuracy: 0.8519 - val_loss: 0.3452\n",
            "Epoch 14/50\n",
            "\u001b[1m200/200\u001b[0m \u001b[32m━━━━━━━━━━━━━━━━━━━━\u001b[0m\u001b[37m\u001b[0m \u001b[1m0s\u001b[0m 2ms/step - accuracy: 0.8677 - loss: 0.3196 - val_accuracy: 0.8512 - val_loss: 0.3464\n",
            "Epoch 15/50\n",
            "\u001b[1m200/200\u001b[0m \u001b[32m━━━━━━━━━━━━━━━━━━━━\u001b[0m\u001b[37m\u001b[0m \u001b[1m1s\u001b[0m 2ms/step - accuracy: 0.8589 - loss: 0.3251 - val_accuracy: 0.8500 - val_loss: 0.3478\n",
            "Epoch 16/50\n",
            "\u001b[1m200/200\u001b[0m \u001b[32m━━━━━━━━━━━━━━━━━━━━\u001b[0m\u001b[37m\u001b[0m \u001b[1m1s\u001b[0m 2ms/step - accuracy: 0.8554 - loss: 0.3264 - val_accuracy: 0.8544 - val_loss: 0.3438\n",
            "Epoch 17/50\n",
            "\u001b[1m200/200\u001b[0m \u001b[32m━━━━━━━━━━━━━━━━━━━━\u001b[0m\u001b[37m\u001b[0m \u001b[1m0s\u001b[0m 2ms/step - accuracy: 0.8648 - loss: 0.3131 - val_accuracy: 0.8500 - val_loss: 0.3474\n",
            "Epoch 18/50\n",
            "\u001b[1m200/200\u001b[0m \u001b[32m━━━━━━━━━━━━━━━━━━━━\u001b[0m\u001b[37m\u001b[0m \u001b[1m0s\u001b[0m 1ms/step - accuracy: 0.8670 - loss: 0.3195 - val_accuracy: 0.8500 - val_loss: 0.3467\n",
            "Epoch 19/50\n",
            "\u001b[1m200/200\u001b[0m \u001b[32m━━━━━━━━━━━━━━━━━━━━\u001b[0m\u001b[37m\u001b[0m \u001b[1m0s\u001b[0m 2ms/step - accuracy: 0.8669 - loss: 0.3148 - val_accuracy: 0.8500 - val_loss: 0.3524\n",
            "Epoch 20/50\n",
            "\u001b[1m200/200\u001b[0m \u001b[32m━━━━━━━━━━━━━━━━━━━━\u001b[0m\u001b[37m\u001b[0m \u001b[1m1s\u001b[0m 2ms/step - accuracy: 0.8663 - loss: 0.3130 - val_accuracy: 0.8519 - val_loss: 0.3451\n",
            "Epoch 21/50\n",
            "\u001b[1m200/200\u001b[0m \u001b[32m━━━━━━━━━━━━━━━━━━━━\u001b[0m\u001b[37m\u001b[0m \u001b[1m0s\u001b[0m 2ms/step - accuracy: 0.8649 - loss: 0.3109 - val_accuracy: 0.8500 - val_loss: 0.3500\n",
            "Epoch 22/50\n",
            "\u001b[1m200/200\u001b[0m \u001b[32m━━━━━━━━━━━━━━━━━━━━\u001b[0m\u001b[37m\u001b[0m \u001b[1m1s\u001b[0m 2ms/step - accuracy: 0.8693 - loss: 0.3092 - val_accuracy: 0.8550 - val_loss: 0.3454\n",
            "Epoch 23/50\n",
            "\u001b[1m200/200\u001b[0m \u001b[32m━━━━━━━━━━━━━━━━━━━━\u001b[0m\u001b[37m\u001b[0m \u001b[1m1s\u001b[0m 3ms/step - accuracy: 0.8770 - loss: 0.3028 - val_accuracy: 0.8512 - val_loss: 0.3456\n",
            "Epoch 24/50\n",
            "\u001b[1m200/200\u001b[0m \u001b[32m━━━━━━━━━━━━━━━━━━━━\u001b[0m\u001b[37m\u001b[0m \u001b[1m1s\u001b[0m 3ms/step - accuracy: 0.8728 - loss: 0.3092 - val_accuracy: 0.8537 - val_loss: 0.3516\n",
            "Epoch 25/50\n",
            "\u001b[1m200/200\u001b[0m \u001b[32m━━━━━━━━━━━━━━━━━━━━\u001b[0m\u001b[37m\u001b[0m \u001b[1m1s\u001b[0m 3ms/step - accuracy: 0.8708 - loss: 0.3037 - val_accuracy: 0.8512 - val_loss: 0.3549\n",
            "Epoch 26/50\n",
            "\u001b[1m200/200\u001b[0m \u001b[32m━━━━━━━━━━━━━━━━━━━━\u001b[0m\u001b[37m\u001b[0m \u001b[1m0s\u001b[0m 2ms/step - accuracy: 0.8789 - loss: 0.2961 - val_accuracy: 0.8494 - val_loss: 0.3503\n",
            "Epoch 27/50\n",
            "\u001b[1m200/200\u001b[0m \u001b[32m━━━━━━━━━━━━━━━━━━━━\u001b[0m\u001b[37m\u001b[0m \u001b[1m0s\u001b[0m 2ms/step - accuracy: 0.8734 - loss: 0.3082 - val_accuracy: 0.8525 - val_loss: 0.3480\n",
            "Epoch 28/50\n",
            "\u001b[1m200/200\u001b[0m \u001b[32m━━━━━━━━━━━━━━━━━━━━\u001b[0m\u001b[37m\u001b[0m \u001b[1m1s\u001b[0m 3ms/step - accuracy: 0.8736 - loss: 0.2972 - val_accuracy: 0.8537 - val_loss: 0.3488\n",
            "Epoch 29/50\n",
            "\u001b[1m200/200\u001b[0m \u001b[32m━━━━━━━━━━━━━━━━━━━━\u001b[0m\u001b[37m\u001b[0m \u001b[1m1s\u001b[0m 3ms/step - accuracy: 0.8740 - loss: 0.2986 - val_accuracy: 0.8537 - val_loss: 0.3548\n",
            "Epoch 30/50\n",
            "\u001b[1m200/200\u001b[0m \u001b[32m━━━━━━━━━━━━━━━━━━━━\u001b[0m\u001b[37m\u001b[0m \u001b[1m1s\u001b[0m 3ms/step - accuracy: 0.8764 - loss: 0.2990 - val_accuracy: 0.8537 - val_loss: 0.3487\n",
            "Epoch 31/50\n",
            "\u001b[1m200/200\u001b[0m \u001b[32m━━━━━━━━━━━━━━━━━━━━\u001b[0m\u001b[37m\u001b[0m \u001b[1m1s\u001b[0m 3ms/step - accuracy: 0.8784 - loss: 0.2953 - val_accuracy: 0.8531 - val_loss: 0.3487\n",
            "Epoch 32/50\n",
            "\u001b[1m200/200\u001b[0m \u001b[32m━━━━━━━━━━━━━━━━━━━━\u001b[0m\u001b[37m\u001b[0m \u001b[1m1s\u001b[0m 2ms/step - accuracy: 0.8746 - loss: 0.2930 - val_accuracy: 0.8487 - val_loss: 0.3524\n",
            "Epoch 33/50\n",
            "\u001b[1m200/200\u001b[0m \u001b[32m━━━━━━━━━━━━━━━━━━━━\u001b[0m\u001b[37m\u001b[0m \u001b[1m1s\u001b[0m 2ms/step - accuracy: 0.8727 - loss: 0.2953 - val_accuracy: 0.8544 - val_loss: 0.3524\n",
            "Epoch 34/50\n",
            "\u001b[1m200/200\u001b[0m \u001b[32m━━━━━━━━━━━━━━━━━━━━\u001b[0m\u001b[37m\u001b[0m \u001b[1m0s\u001b[0m 2ms/step - accuracy: 0.8801 - loss: 0.2903 - val_accuracy: 0.8537 - val_loss: 0.3499\n",
            "Epoch 35/50\n",
            "\u001b[1m200/200\u001b[0m \u001b[32m━━━━━━━━━━━━━━━━━━━━\u001b[0m\u001b[37m\u001b[0m \u001b[1m0s\u001b[0m 2ms/step - accuracy: 0.8786 - loss: 0.2970 - val_accuracy: 0.8544 - val_loss: 0.3482\n",
            "Epoch 36/50\n",
            "\u001b[1m200/200\u001b[0m \u001b[32m━━━━━━━━━━━━━━━━━━━━\u001b[0m\u001b[37m\u001b[0m \u001b[1m1s\u001b[0m 2ms/step - accuracy: 0.8870 - loss: 0.2749 - val_accuracy: 0.8500 - val_loss: 0.3528\n",
            "Epoch 37/50\n",
            "\u001b[1m200/200\u001b[0m \u001b[32m━━━━━━━━━━━━━━━━━━━━\u001b[0m\u001b[37m\u001b[0m \u001b[1m1s\u001b[0m 2ms/step - accuracy: 0.8832 - loss: 0.2844 - val_accuracy: 0.8512 - val_loss: 0.3532\n",
            "Epoch 38/50\n",
            "\u001b[1m200/200\u001b[0m \u001b[32m━━━━━━━━━━━━━━━━━━━━\u001b[0m\u001b[37m\u001b[0m \u001b[1m1s\u001b[0m 2ms/step - accuracy: 0.8832 - loss: 0.2893 - val_accuracy: 0.8487 - val_loss: 0.3573\n",
            "Epoch 39/50\n",
            "\u001b[1m200/200\u001b[0m \u001b[32m━━━━━━━━━━━━━━━━━━━━\u001b[0m\u001b[37m\u001b[0m \u001b[1m1s\u001b[0m 2ms/step - accuracy: 0.8809 - loss: 0.2921 - val_accuracy: 0.8506 - val_loss: 0.3558\n",
            "Epoch 40/50\n",
            "\u001b[1m200/200\u001b[0m \u001b[32m━━━━━━━━━━━━━━━━━━━━\u001b[0m\u001b[37m\u001b[0m \u001b[1m1s\u001b[0m 2ms/step - accuracy: 0.8839 - loss: 0.2777 - val_accuracy: 0.8537 - val_loss: 0.3571\n",
            "Epoch 41/50\n",
            "\u001b[1m200/200\u001b[0m \u001b[32m━━━━━━━━━━━━━━━━━━━━\u001b[0m\u001b[37m\u001b[0m \u001b[1m0s\u001b[0m 2ms/step - accuracy: 0.8847 - loss: 0.2847 - val_accuracy: 0.8525 - val_loss: 0.3682\n",
            "Epoch 42/50\n",
            "\u001b[1m200/200\u001b[0m \u001b[32m━━━━━━━━━━━━━━━━━━━━\u001b[0m\u001b[37m\u001b[0m \u001b[1m1s\u001b[0m 2ms/step - accuracy: 0.8854 - loss: 0.2798 - val_accuracy: 0.8519 - val_loss: 0.3641\n",
            "Epoch 43/50\n",
            "\u001b[1m200/200\u001b[0m \u001b[32m━━━━━━━━━━━━━━━━━━━━\u001b[0m\u001b[37m\u001b[0m \u001b[1m1s\u001b[0m 3ms/step - accuracy: 0.8777 - loss: 0.2966 - val_accuracy: 0.8537 - val_loss: 0.3692\n",
            "Epoch 44/50\n",
            "\u001b[1m200/200\u001b[0m \u001b[32m━━━━━━━━━━━━━━━━━━━━\u001b[0m\u001b[37m\u001b[0m \u001b[1m1s\u001b[0m 6ms/step - accuracy: 0.8898 - loss: 0.2737 - val_accuracy: 0.8537 - val_loss: 0.3670\n",
            "Epoch 45/50\n",
            "\u001b[1m200/200\u001b[0m \u001b[32m━━━━━━━━━━━━━━━━━━━━\u001b[0m\u001b[37m\u001b[0m \u001b[1m1s\u001b[0m 4ms/step - accuracy: 0.8840 - loss: 0.2817 - val_accuracy: 0.8481 - val_loss: 0.3560\n",
            "Epoch 46/50\n",
            "\u001b[1m200/200\u001b[0m \u001b[32m━━━━━━━━━━━━━━━━━━━━\u001b[0m\u001b[37m\u001b[0m \u001b[1m1s\u001b[0m 3ms/step - accuracy: 0.8890 - loss: 0.2704 - val_accuracy: 0.8431 - val_loss: 0.3592\n",
            "Epoch 47/50\n",
            "\u001b[1m200/200\u001b[0m \u001b[32m━━━━━━━━━━━━━━━━━━━━\u001b[0m\u001b[37m\u001b[0m \u001b[1m1s\u001b[0m 3ms/step - accuracy: 0.8851 - loss: 0.2804 - val_accuracy: 0.8369 - val_loss: 0.3753\n",
            "Epoch 48/50\n",
            "\u001b[1m200/200\u001b[0m \u001b[32m━━━━━━━━━━━━━━━━━━━━\u001b[0m\u001b[37m\u001b[0m \u001b[1m1s\u001b[0m 2ms/step - accuracy: 0.8852 - loss: 0.2730 - val_accuracy: 0.8462 - val_loss: 0.3606\n",
            "Epoch 49/50\n",
            "\u001b[1m200/200\u001b[0m \u001b[32m━━━━━━━━━━━━━━━━━━━━\u001b[0m\u001b[37m\u001b[0m \u001b[1m1s\u001b[0m 2ms/step - accuracy: 0.8966 - loss: 0.2616 - val_accuracy: 0.8462 - val_loss: 0.3681\n",
            "Epoch 50/50\n",
            "\u001b[1m200/200\u001b[0m \u001b[32m━━━━━━━━━━━━━━━━━━━━\u001b[0m\u001b[37m\u001b[0m \u001b[1m1s\u001b[0m 2ms/step - accuracy: 0.8836 - loss: 0.2790 - val_accuracy: 0.8531 - val_loss: 0.3892\n"
          ]
        }
      ]
    },
    {
      "cell_type": "code",
      "source": [
        "\n",
        "# import numpy as np\n",
        "# import pandas as pd\n",
        "# import matplotlib.pyplot as plt\n",
        "# from sklearn.metrics import (\n",
        "#     accuracy_score, precision_score, recall_score, f1_score,\n",
        "#     roc_auc_score, average_precision_score, confusion_matrix,\n",
        "#     classification_report, roc_curve, precision_recall_curve\n",
        "# )\n",
        "\n",
        "# # 1) pick dataset: test -> val -> train\n",
        "# try:\n",
        "#     X, y, tag = x_test, y_test, 'test'\n",
        "# except NameError:\n",
        "#     try:\n",
        "#         X, y, tag = x_val, y_val, 'val'\n",
        "#     except NameError:\n",
        "#         X, y, tag = x_train, y_train, 'train'\n",
        "\n",
        "# # 2) prepare arrays\n",
        "# X = np.asarray(X)\n",
        "# y = np.asarray(y).ravel()\n",
        "\n",
        "# # 3) require binary labels 0/1\n",
        "# if not set(np.unique(y)).issubset({0,1}):\n",
        "#     raise ValueError(f\"Labels on {tag} must be 0/1. Found: {np.unique(y)}\")\n",
        "\n",
        "# # 4) get model outputs and make probabilities\n",
        "# out = np.asarray(model.predict(X)).ravel()\n",
        "\n",
        "# # If outputs look like probabilities (0..1) use them, otherwise apply sigmoid\n",
        "# if out.min() >= 0.0 and out.max() <= 1.0:\n",
        "#     probs = out.copy()\n",
        "# else:\n",
        "#     probs = 1 / (1 + np.exp(-out))   # sigmoid for logits / scores\n",
        "\n",
        "# preds = (probs >= 0.5).astype(int)\n",
        "\n",
        "# # 5) compute core metrics (scalars)\n",
        "# acc = accuracy_score(y, preds)\n",
        "# prec = precision_score(y, preds, zero_division=0)\n",
        "# rec = recall_score(y, preds, zero_division=0)\n",
        "# f1 = f1_score(y, preds, zero_division=0)\n",
        "\n",
        "# # 6) optional probabilistic metrics (scalars if computable)\n",
        "# roc_auc = float('nan')\n",
        "# avg_prec = float('nan')\n",
        "# if len(np.unique(y)) == 2:\n",
        "#     try:\n",
        "#         roc_auc = roc_auc_score(y, probs)\n",
        "#     except Exception:\n",
        "#         pass\n",
        "#     try:\n",
        "#         avg_prec = average_precision_score(y, probs)\n",
        "#     except Exception:\n",
        "#         pass\n",
        "\n",
        "# # 7) print main metrics\n",
        "# print(f\"Evaluating on: {tag}\")\n",
        "# print(f\"Accuracy: {acc:.4f}  Precision: {prec:.4f}  Recall: {rec:.4f}  F1: {f1:.4f}\")\n",
        "# if not np.isnan(roc_auc):\n",
        "#     print(f\"ROC AUC: {roc_auc:.4f}  Avg Precision (AP): {avg_prec:.4f}\")\n",
        "\n",
        "# # 8) confusion matrix + classification report\n",
        "# print(\"\\nConfusion matrix (rows=true, cols=pred):\")\n",
        "# print(confusion_matrix(y, preds))\n",
        "# print(\"\\nClassification report:\")\n",
        "# print(classification_report(y, preds, digits=4, zero_division=0))\n",
        "\n",
        "# # 9) plots (if both classes present)\n",
        "# if len(np.unique(y)) == 2:\n",
        "#     try:\n",
        "#         fpr, tpr, _ = roc_curve(y, probs)\n",
        "#         precs, recs, _ = precision_recall_curve(y, probs)\n",
        "\n",
        "#         plt.figure(figsize=(10,4))\n",
        "#         plt.subplot(1,2,1)\n",
        "#         plt.plot(fpr, tpr); plt.plot([0,1],[0,1],'--', linewidth=0.7)\n",
        "#         plt.title('ROC curve'); plt.xlabel('FPR'); plt.ylabel('TPR')\n",
        "\n",
        "#         plt.subplot(1,2,2)\n",
        "#         plt.plot(recs, precs)\n",
        "#         plt.title('Precision-Recall'); plt.xlabel('Recall'); plt.ylabel('Precision')\n",
        "#         plt.tight_layout(); plt.show()\n",
        "#     except Exception:\n",
        "#         pass\n",
        "\n",
        "#     # find simple best threshold by F1\n",
        "#     thresholds = np.linspace(0,1,101)\n",
        "#     f1s = [f1_score(y, (probs>=t).astype(int), zero_division=0) for t in thresholds]\n",
        "#     best_idx = int(np.argmax(f1s))\n",
        "#     print(f\"\\nDefault thr=0.5 F1={f1:.4f}  Best thr={thresholds[best_idx]:.2f} F1={f1s[best_idx]:.4f}\")\n",
        "\n",
        "# # 10) show examples\n",
        "# n = min(10, len(y))\n",
        "# print(\"\\nSample (true, prob, pred):\")\n",
        "# print(pd.DataFrame({'true': y[:n], 'prob': np.round(probs[:n],4), 'pred': preds[:n]}))\n",
        "\n",
        "# # 11) save metrics safely (ensure scalars)\n",
        "# metrics = {\n",
        "#     'accuracy': acc, 'precision': prec, 'recall': rec, 'f1': f1,\n",
        "#     'roc_auc': float(roc_auc) if not np.isnan(roc_auc) else float('nan'),\n",
        "#     'avg_precision': float(avg_prec) if not np.isnan(avg_prec) else float('nan')\n",
        "# }\n",
        "# df = pd.Series(metrics, name=tag).to_frame().T\n",
        "# display(df.round(4))\n",
        "# df.to_csv(f'binary_metrics_{tag}.csv', index=True)\n",
        "# print(f\"\\nSaved metrics to binary_metrics_{tag}.csv\")\n"
      ],
      "metadata": {
        "colab": {
          "base_uri": "https://localhost:8080/",
          "height": 1000
        },
        "id": "Bfohhrva5m7x",
        "outputId": "19cc57c7-4061-4943-b801-f9dcc49ad5a6"
      },
      "execution_count": 21,
      "outputs": [
        {
          "output_type": "stream",
          "name": "stdout",
          "text": [
            "\u001b[1m63/63\u001b[0m \u001b[32m━━━━━━━━━━━━━━━━━━━━\u001b[0m\u001b[37m\u001b[0m \u001b[1m0s\u001b[0m 4ms/step\n",
            "Evaluating on: test\n",
            "Accuracy: 0.8540  Precision: 0.6920  Recall: 0.4631  F1: 0.5549\n",
            "ROC AUC: 0.8495  Avg Precision (AP): 0.6581\n",
            "\n",
            "Confusion matrix (rows=true, cols=pred):\n",
            "[[1526   81]\n",
            " [ 211  182]]\n",
            "\n",
            "Classification report:\n",
            "              precision    recall  f1-score   support\n",
            "\n",
            "           0     0.8785    0.9496    0.9127      1607\n",
            "           1     0.6920    0.4631    0.5549       393\n",
            "\n",
            "    accuracy                         0.8540      2000\n",
            "   macro avg     0.7853    0.7063    0.7338      2000\n",
            "weighted avg     0.8419    0.8540    0.8424      2000\n",
            "\n"
          ]
        },
        {
          "output_type": "display_data",
          "data": {
            "text/plain": [
              "<Figure size 1000x400 with 2 Axes>"
            ],
            "image/png": "[encoded data removed]"
          },
          "metadata": {}
        },
        {
          "output_type": "stream",
          "name": "stdout",
          "text": [
            "\n",
            "Default thr=0.5 F1=0.5549  Best thr=0.34 F1=0.6094\n",
            "\n",
            "Sample (true, prob, pred):\n",
            "   true    prob  pred\n",
            "0     0  0.0221     0\n",
            "1     0  0.0312     0\n",
            "2     0  0.1061     0\n",
            "3     0  0.1044     0\n",
            "4     0  0.1009     0\n",
            "5     0  0.0079     0\n",
            "6     0  0.1910     0\n",
            "7     1  0.2675     0\n",
            "8     0  0.2914     0\n",
            "9     0  0.3241     0\n"
          ]
        },
        {
          "output_type": "display_data",
          "data": {
            "text/plain": [
              "      accuracy  precision  recall      f1  roc_auc  avg_precision\n",
              "test     0.854      0.692  0.4631  0.5549   0.8495         0.6581"
            ],
            "text/html": [
              "\n",
              "  <div id=\"df-0856717d-624c-42be-8758-2f53ab280272\" class=\"colab-df-container\">\n",
              "    <div>\n",
              "<style scoped>\n",
              "    .dataframe tbody tr th:only-of-type {\n",
              "        vertical-align: middle;\n",
              "    }\n",
              "\n",
              "    .dataframe tbody tr th {\n",
              "        vertical-align: top;\n",
              "    }\n",
              "\n",
              "    .dataframe thead th {\n",
              "        text-align: right;\n",
              "    }\n",
              "</style>\n",
              "<table border=\"1\" class=\"dataframe\">\n",
              "  <thead>\n",
              "    <tr style=\"text-align: right;\">\n",
              "      <th></th>\n",
              "      <th>accuracy</th>\n",
              "      <th>precision</th>\n",
              "      <th>recall</th>\n",
              "      <th>f1</th>\n",
              "      <th>roc_auc</th>\n",
              "      <th>avg_precision</th>\n",
              "    </tr>\n",
              "  </thead>\n",
              "  <tbody>\n",
              "    <tr>\n",
              "      <th>test</th>\n",
              "      <td>0.854</td>\n",
              "      <td>0.692</td>\n",
              "      <td>0.4631</td>\n",
              "      <td>0.5549</td>\n",
              "      <td>0.8495</td>\n",
              "      <td>0.6581</td>\n",
              "    </tr>\n",
              "  </tbody>\n",
              "</table>\n",
              "</div>\n",
              "    <div class=\"colab-df-buttons\">\n",
              "\n",
              "  <div class=\"colab-df-container\">\n",
              "    <button class=\"colab-df-convert\" onclick=\"convertToInteractive('df-0856717d-624c-42be-8758-2f53ab280272')\"\n",
              "            title=\"Convert this dataframe to an interactive table.\"\n",
              "            style=\"display:none;\">\n",
              "\n",
              "  <svg xmlns=\"http://www.w3.org/2000/svg\" height=\"24px\" viewBox=\"0 -960 960 960\">\n",
              "    <path d=\"M120-120v-720h720v720H120Zm60-500h600v-160H180v160Zm220 220h160v-160H400v160Zm0 220h160v-160H400v160ZM180-400h160v-160H180v160Zm440 0h160v-160H620v160ZM180-180h160v-160H180v160Zm440 0h160v-160H620v160Z\"/>\n",
              "  </svg>\n",
              "    </button>\n",
              "\n",
              "  <style>\n",
              "    .colab-df-container {\n",
              "      display:flex;\n",
              "      gap: 12px;\n",
              "    }\n",
              "\n",
              "    .colab-df-convert {\n",
              "      background-color: #E8F0FE;\n",
              "      border: none;\n",
              "      border-radius: 50%;\n",
              "      cursor: pointer;\n",
              "      display: none;\n",
              "      fill: #1967D2;\n",
              "      height: 32px;\n",
              "      padding: 0 0 0 0;\n",
              "      width: 32px;\n",
              "    }\n",
              "\n",
              "    .colab-df-convert:hover {\n",
              "      background-color: #E2EBFA;\n",
              "      box-shadow: 0px 1px 2px rgba(60, 64, 67, 0.3), 0px 1px 3px 1px rgba(60, 64, 67, 0.15);\n",
              "      fill: #174EA6;\n",
              "    }\n",
              "\n",
              "    .colab-df-buttons div {\n",
              "      margin-bottom: 4px;\n",
              "    }\n",
              "\n",
              "    [theme=dark] .colab-df-convert {\n",
              "      background-color: #3B4455;\n",
              "      fill: #D2E3FC;\n",
              "    }\n",
              "\n",
              "    [theme=dark] .colab-df-convert:hover {\n",
              "      background-color: #434B5C;\n",
              "      box-shadow: 0px 1px 3px 1px rgba(0, 0, 0, 0.15);\n",
              "      filter: drop-shadow(0px 1px 2px rgba(0, 0, 0, 0.3));\n",
              "      fill: #FFFFFF;\n",
              "    }\n",
              "  </style>\n",
              "\n",
              "    <script>\n",
              "      const buttonEl =\n",
              "        document.querySelector('#df-0856717d-624c-42be-8758-2f53ab280272 button.colab-df-convert');\n",
              "      buttonEl.style.display =\n",
              "        google.colab.kernel.accessAllowed ? 'block' : 'none';\n",
              "\n",
              "      async function convertToInteractive(key) {\n",
              "        const element = document.querySelector('#df-0856717d-624c-42be-8758-2f53ab280272');\n",
              "        const dataTable =\n",
              "          await google.colab.kernel.invokeFunction('convertToInteractive',\n",
              "                                                    [key], {});\n",
              "        if (!dataTable) return;\n",
              "\n",
              "        const docLinkHtml = 'Like what you see? Visit the ' +\n",
              "          '<a target=\"_blank\" href=https://colab.research.google.com/notebooks/data_table.ipynb>data table notebook</a>'\n",
              "          + ' to learn more about interactive tables.';\n",
              "        element.innerHTML = '';\n",
              "        dataTable['output_type'] = 'display_data';\n",
              "        await google.colab.output.renderOutput(dataTable, element);\n",
              "        const docLink = document.createElement('div');\n",
              "        docLink.innerHTML = docLinkHtml;\n",
              "        element.appendChild(docLink);\n",
              "      }\n",
              "    </script>\n",
              "  </div>\n",
              "\n",
              "\n",
              "    </div>\n",
              "  </div>\n"
            ],
            "application/vnd.google.colaboratory.intrinsic+json": {
              "type": "dataframe",
              "summary": "{\n  \"name\": \"print(f\\\"\\\\nSaved metrics to binary_metrics_{tag}\",\n  \"rows\": 1,\n  \"fields\": [\n    {\n      \"column\": \"accuracy\",\n      \"properties\": {\n        \"dtype\": \"number\",\n        \"std\": null,\n        \"min\": 0.854,\n        \"max\": 0.854,\n        \"num_unique_values\": 1,\n        \"samples\": [\n          0.854\n        ],\n        \"semantic_type\": \"\",\n        \"description\": \"\"\n      }\n    },\n    {\n      \"column\": \"precision\",\n      \"properties\": {\n        \"dtype\": \"number\",\n        \"std\": null,\n        \"min\": 0.692,\n        \"max\": 0.692,\n        \"num_unique_values\": 1,\n        \"samples\": [\n          0.692\n        ],\n        \"semantic_type\": \"\",\n        \"description\": \"\"\n      }\n    },\n    {\n      \"column\": \"recall\",\n      \"properties\": {\n        \"dtype\": \"number\",\n        \"std\": null,\n        \"min\": 0.4631,\n        \"max\": 0.4631,\n        \"num_unique_values\": 1,\n        \"samples\": [\n          0.4631\n        ],\n        \"semantic_type\": \"\",\n        \"description\": \"\"\n      }\n    },\n    {\n      \"column\": \"f1\",\n      \"properties\": {\n        \"dtype\": \"number\",\n        \"std\": null,\n        \"min\": 0.5549,\n        \"max\": 0.5549,\n        \"num_unique_values\": 1,\n        \"samples\": [\n          0.5549\n        ],\n        \"semantic_type\": \"\",\n        \"description\": \"\"\n      }\n    },\n    {\n      \"column\": \"roc_auc\",\n      \"properties\": {\n        \"dtype\": \"number\",\n        \"std\": null,\n        \"min\": 0.8495,\n        \"max\": 0.8495,\n        \"num_unique_values\": 1,\n        \"samples\": [\n          0.8495\n        ],\n        \"semantic_type\": \"\",\n        \"description\": \"\"\n      }\n    },\n    {\n      \"column\": \"avg_precision\",\n      \"properties\": {\n        \"dtype\": \"number\",\n        \"std\": null,\n        \"min\": 0.6581,\n        \"max\": 0.6581,\n        \"num_unique_values\": 1,\n        \"samples\": [\n          0.6581\n        ],\n        \"semantic_type\": \"\",\n        \"description\": \"\"\n      }\n    }\n  ]\n}"
            }
          },
          "metadata": {}
        },
        {
          "output_type": "stream",
          "name": "stdout",
          "text": [
            "\n",
            "Saved metrics to binary_metrics_test.csv\n"
          ]
        }
      ]
    },
    {
      "cell_type": "markdown",
      "source": [
        "Binary metrics explanation (paste under the code cell):\n",
        "\n",
        "- accuracy: fraction of correct predictions.\n",
        "- precision: TP / (TP + FP). High precision means few false positives.\n",
        "- recall: TP / (TP + FN). High recall means few false negatives.\n",
        "- f1: harmonic mean of precision and recall. Good single-number metric when classes are imbalanced.\n",
        "- roc_auc: area under ROC curve. Requires predicted probabilities. Measures separability.\n",
        "- avg_precision: area under precision-recall curve. Useful on imbalanced data.\n",
        "- confusion matrix: rows = true class, columns = predicted class.\n",
        "\n",
        "Notes:\n",
        "- The cell auto-detects whether model outputs probabilities, logits, or hard 0/1 labels.\n",
        "- If probabilities are available the code plots ROC and Precision-Recall curves.\n",
        "- The code also searches thresholds (0.00–1.00) and reports the threshold that maximizes F1.\n",
        "- Use the best threshold if you value balanced precision/recall. For recall-heavy tasks (e.g., anomaly detection), choose a lower threshold. For precision-heavy tasks (e.g., expensive false positives), choose a higher threshold.\n",
        "- The metrics CSV is saved in the notebook working directory.\n",
        "\n"
      ],
      "metadata": {
        "id": "RBKlbUTb6XR8"
      }
    },
    {
      "cell_type": "code",
      "source": [
        "weights, bias = model.layers[0].get_weights()"
      ],
      "metadata": {
        "id": "JEw_CGqeJUop"
      },
      "execution_count": null,
      "outputs": []
    },
    {
      "cell_type": "markdown",
      "source": [],
      "metadata": {
        "id": "ECF3oe8O6VmH"
      }
    },
    {
      "cell_type": "code",
      "source": [
        "x_train.shape"
      ],
      "metadata": {
        "colab": {
          "base_uri": "https://localhost:8080/"
        },
        "id": "mWCkeOfRY0TF",
        "outputId": "6b0ce540-a1b5-4172-847f-047235bc27cc"
      },
      "execution_count": null,
      "outputs": [
        {
          "output_type": "execute_result",
          "data": {
            "text/plain": [
              "(8000, 11)"
            ]
          },
          "metadata": {},
          "execution_count": 19
        }
      ]
    },
    {
      "cell_type": "code",
      "source": [
        "weights"
      ],
      "metadata": {
        "colab": {
          "base_uri": "https://localhost:8080/"
        },
        "id": "xaNsykjWJr8H",
        "outputId": "5be774f4-c1e8-4440-dd8e-a1957922f7fa"
      },
      "execution_count": null,
      "outputs": [
        {
          "output_type": "execute_result",
          "data": {
            "text/plain": [
              "array([[ 0.9093536 ,  0.17919841,  0.22789004, -0.7555777 , -0.2913165 ,\n",
              "         0.41806325,  0.07937427,  0.7748592 , -0.05594359, -0.26894012,\n",
              "        -1.136222  , -0.08424135,  0.44454297, -0.31490913, -0.00207081,\n",
              "         0.13430567],\n",
              "       [-0.56306005,  0.72746944,  0.33524373,  0.8196258 ,  0.27822617,\n",
              "        -0.00774604,  0.7291872 ,  0.31986097,  0.5540162 ,  0.30093887,\n",
              "         0.411449  ,  0.4584858 , -0.2643253 , -0.00432573, -0.23075719,\n",
              "         0.5337729 ],\n",
              "       [-0.2168069 , -0.5261103 , -0.00121209, -0.11076826, -0.1861363 ,\n",
              "        -0.16034935,  0.75392646, -0.3248911 , -0.1691869 ,  0.3842917 ,\n",
              "         0.9110233 ,  0.42419195,  0.6693994 ,  0.4074523 ,  0.40073675,\n",
              "        -0.7593623 ],\n",
              "       [-0.22663628,  0.09225993, -0.19419648, -0.04716428,  0.02885077,\n",
              "         0.19612548, -0.00636053, -0.13869616, -0.01064887, -0.04951925,\n",
              "        -0.11406846,  0.03196922, -0.32963267,  0.653379  , -0.49698853,\n",
              "         0.5865451 ],\n",
              "       [ 0.41930547, -0.52821493, -0.6419995 , -0.01566105, -0.05257917,\n",
              "         0.062785  , -0.09617766,  0.6818173 ,  1.0838212 ,  0.60850984,\n",
              "         0.4620199 ,  0.2448501 ,  0.38552377,  0.0715764 ,  0.23059566,\n",
              "         0.73570216],\n",
              "       [-0.23293616, -0.3511855 ,  0.21694775, -0.285139  ,  0.01426571,\n",
              "         0.8458109 ,  0.2777668 ,  0.20273067,  0.02495378, -0.7133516 ,\n",
              "        -0.06633085, -0.24194151,  0.43335313, -0.9429071 , -0.21456848,\n",
              "        -0.38338715],\n",
              "       [ 0.41555092,  0.5267087 ,  0.08185632, -0.04100196,  1.0257931 ,\n",
              "        -0.87092865, -0.7522305 ,  0.09294683, -0.03685192,  0.34782833,\n",
              "         0.5357864 ,  0.5715621 , -0.70057327, -0.4451789 ,  0.56057435,\n",
              "        -0.31807184],\n",
              "       [ 1.1010361 , -0.22795328, -0.51309735,  0.7927731 ,  0.9898753 ,\n",
              "         0.73999935, -0.32139772, -0.8463136 ,  0.94117475,  0.6247874 ,\n",
              "        -0.67348015,  0.33562383,  0.4066467 ,  0.6780473 , -0.04311827,\n",
              "        -1.1015912 ],\n",
              "       [-0.24708174, -0.14665383, -0.08203848, -0.3248766 ,  0.14067395,\n",
              "        -0.07427227,  0.3764333 ,  0.13500059,  0.17733742,  0.4091248 ,\n",
              "         0.04688878,  0.84305793, -0.21904512,  0.00611872, -0.4602999 ,\n",
              "        -0.16896601],\n",
              "       [-0.26657957, -0.12502523, -0.314979  , -0.7655326 ,  0.19030562,\n",
              "        -0.79804856,  0.748551  , -0.45155108,  0.60133356, -0.05283756,\n",
              "         0.69893414,  0.31216007, -0.19603756, -0.11218058,  0.63200027,\n",
              "        -0.4010659 ],\n",
              "       [ 0.42605862,  0.45758322, -0.39377642, -0.24270816,  0.3817213 ,\n",
              "         0.09727027, -0.2976182 , -0.21161777, -0.23394866,  0.29492313,\n",
              "         0.23652498,  1.0210365 ,  0.7702494 ,  0.0386401 , -0.39258513,\n",
              "         0.75696594]], dtype=float32)"
            ]
          },
          "metadata": {},
          "execution_count": 35
        }
      ]
    },
    {
      "cell_type": "code",
      "source": [
        " bias"
      ],
      "metadata": {
        "colab": {
          "base_uri": "https://localhost:8080/"
        },
        "id": "trDaVpTTKz9F",
        "outputId": "bfd46a06-067b-4753-8dfc-beb58cee3eb0"
      },
      "execution_count": null,
      "outputs": [
        {
          "output_type": "execute_result",
          "data": {
            "text/plain": [
              "array([-0.0373496 ,  0.36547828,  0.39188376,  0.2534216 , -0.17080712,\n",
              "        0.06741191,  0.07138667,  0.18356113, -0.00813349, -0.13482028,\n",
              "        0.12518026,  0.18880463, -0.06491996,  0.20577395,  0.37797546,\n",
              "        0.01205343], dtype=float32)"
            ]
          },
          "metadata": {},
          "execution_count": 36
        }
      ]
    },
    {
      "cell_type": "code",
      "source": [
        "type(weights)\n",
        "\n",
        "weights.shape"
      ],
      "metadata": {
        "colab": {
          "base_uri": "https://localhost:8080/"
        },
        "id": "CTEJENFWK0w6",
        "outputId": "bfc51a31-7572-4656-b76e-cfadd937d011"
      },
      "execution_count": null,
      "outputs": [
        {
          "output_type": "execute_result",
          "data": {
            "text/plain": [
              "(11, 16)"
            ]
          },
          "metadata": {},
          "execution_count": 40
        }
      ]
    },
    {
      "cell_type": "code",
      "source": [
        "# ==============================\n",
        "# Evaluate model\n",
        "# ==============================\n",
        "# Training history visualization\n",
        "plt.plot(history.history['accuracy'], label='Train Accuracy')\n",
        "plt.plot(history.history['val_accuracy'], label='Validation Accuracy', color='red')\n",
        "plt.legend()\n",
        "plt.title(\"Model Accuracy\")\n",
        "plt.show()\n",
        "\n",
        "plt.plot(history.history['loss'], label='Train Loss')\n",
        "plt.plot(history.history['val_loss'], label='Validation Loss', color='red')\n",
        "plt.legend()\n",
        "plt.title(\"Model Loss\")\n",
        "plt.show()"
      ],
      "metadata": {
        "colab": {
          "base_uri": "https://localhost:8080/",
          "height": 887
        },
        "id": "Zxt0i76DK4RF",
        "outputId": "b4d55df4-9325-45f8-9ea3-cef44e9c5af2"
      },
      "execution_count": null,
      "outputs": [
        {
          "output_type": "display_data",
          "data": {
            "text/plain": [
              "<Figure size 640x480 with 1 Axes>"
            ],
            "image/png": "[encoded data removed]"
          },
          "metadata": {}
        },
        {
          "output_type": "display_data",
          "data": {
            "text/plain": [
              "<Figure size 640x480 with 1 Axes>"
            ],
            "image/png": "[encoded data removed]"
          },
          "metadata": {}
        }
      ]
    },
    {
      "cell_type": "code",
      "source": [
        "# ==============================\n",
        "# Predictions\n",
        "# ==============================\n",
        "y_pred_probs = model.predict(x_test)         # Probabilities\n",
        "y_pred = (y_pred_probs > 0.5).astype(int)    # Convert to 0/1\n",
        "\n",
        "# Confusion Matrix & Accuracy\n",
        "cm = confusion_matrix(y_test, y_pred)\n",
        "print(\"Confusion Matrix:\\n\", cm)\n",
        "\n",
        "test_accuracy = accuracy_score(y_test, y_pred)\n",
        "print(\"Test Accuracy:\", test_accuracy)"
      ],
      "metadata": {
        "colab": {
          "base_uri": "https://localhost:8080/"
        },
        "id": "oGYOVKfVLFL8",
        "outputId": "d40a4def-346d-4702-e91b-b8a5b8098051"
      },
      "execution_count": null,
      "outputs": [
        {
          "output_type": "stream",
          "name": "stdout",
          "text": [
            "\u001b[1m63/63\u001b[0m \u001b[32m━━━━━━━━━━━━━━━━━━━━\u001b[0m\u001b[37m\u001b[0m \u001b[1m1s\u001b[0m 6ms/step\n",
            "Confusion Matrix:\n",
            " [[1521   86]\n",
            " [ 214  179]]\n",
            "Test Accuracy: 0.85\n"
          ]
        }
      ]
    }
  ]
}