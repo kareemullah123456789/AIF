{
  "nbformat": 4,
  "nbformat_minor": 0,
  "metadata": {
    "colab": {
      "provenance": [],
      "include_colab_link": true
    },
    "kernelspec": {
      "name": "python3",
      "display_name": "Python 3"
    },
    "language_info": {
      "name": "python"
    }
  },
  "cells": [
    {
      "cell_type": "markdown",
      "metadata": {
        "id": "view-in-github",
        "colab_type": "text"
      },
      "source": [
        "<a href=\"https://colab.research.google.com/github/kareemullah123456789/AIF/blob/main/ANN_BinaryClassification.ipynb\" target=\"_parent\"><img src=\"https://colab.research.google.com/assets/colab-badge.svg\" alt=\"Open In Colab\"/></a>"
      ]
    },
    {
      "cell_type": "code",
      "source": [
        "from google.colab import drive\n",
        "drive.mount('/content/drive')"
      ],
      "metadata": {
        "colab": {
          "base_uri": "https://localhost:8080/"
        },
        "id": "M7QdP4zrHtNh",
        "outputId": "1e882690-efd3-47d8-a513-e6205fd755af"
      },
      "execution_count": 1,
      "outputs": [
        {
          "output_type": "stream",
          "name": "stdout",
          "text": [
            "Mounted at /content/drive\n"
          ]
        }
      ]
    },
    {
      "cell_type": "code",
      "execution_count": 2,
      "metadata": {
        "id": "3CKyZibYlLDm"
      },
      "outputs": [],
      "source": [
        "# ==============================\n",
        "# STEP 1: Import required libraries\n",
        "# ==============================\n",
        "import pandas as pd\n",
        "import numpy as np\n",
        "import seaborn as sns\n",
        "import matplotlib.pyplot as plt\n",
        "\n",
        "from google.colab import drive\n",
        "from sklearn.model_selection import train_test_split\n",
        "from sklearn.preprocessing import OneHotEncoder, StandardScaler\n",
        "from sklearn.compose import ColumnTransformer\n",
        "from sklearn.pipeline import Pipeline\n",
        "from sklearn.metrics import accuracy_score, confusion_matrix\n",
        "\n",
        "from tensorflow.keras.models import Sequential\n",
        "from tensorflow.keras.layers import Dense, Dropout"
      ]
    },
    {
      "cell_type": "code",
      "source": [
        "# ==============================\n",
        "# STEP 2: Load dataset from Google Drive\n",
        "# ==============================\n",
        "#drive.mount('/content/drive')\n",
        "data = pd.read_csv(\"/content/drive/MyDrive/AIF/1_Churn_Modelling.csv\")\n",
        "\n",
        "# Business Problem: Predict whether customers will leave the bank (Exited=1) or not (Exited=0)\n",
        "data.head()\n",
        "target = \"Exited\"\n",
        "print(data.columns)"
      ],
      "metadata": {
        "id": "4WIqFkZS67w6",
        "colab": {
          "base_uri": "https://localhost:8080/"
        },
        "outputId": "da078c37-c652-4f44-8c81-d1598d45d9cd"
      },
      "execution_count": 3,
      "outputs": [
        {
          "output_type": "stream",
          "name": "stdout",
          "text": [
            "Index(['RowNumber', 'CustomerId', 'Surname', 'CreditScore', 'Geography',\n",
            "       'Gender', 'Age', 'Tenure', 'Balance', 'NumOfProducts', 'HasCrCard',\n",
            "       'IsActiveMember', 'EstimatedSalary', 'Exited'],\n",
            "      dtype='object')\n"
          ]
        }
      ]
    },
    {
      "cell_type": "code",
      "source": [
        "# Check for missing values\n",
        "print(data.isnull().sum())\n",
        "\n",
        "# Explore categorical variables\n",
        "print(data.Geography.unique())\n",
        "print(data.Gender.unique())"
      ],
      "metadata": {
        "colab": {
          "base_uri": "https://localhost:8080/"
        },
        "id": "f9q7D4Rg7MgW",
        "outputId": "8fad8148-0735-4b8d-fcd5-18e0637f90ee"
      },
      "execution_count": 4,
      "outputs": [
        {
          "output_type": "stream",
          "name": "stdout",
          "text": [
            "RowNumber          0\n",
            "CustomerId         0\n",
            "Surname            0\n",
            "CreditScore        0\n",
            "Geography          0\n",
            "Gender             0\n",
            "Age                0\n",
            "Tenure             0\n",
            "Balance            0\n",
            "NumOfProducts      0\n",
            "HasCrCard          0\n",
            "IsActiveMember     0\n",
            "EstimatedSalary    0\n",
            "Exited             0\n",
            "dtype: int64\n",
            "['France' 'Spain' 'Germany']\n",
            "['Female' 'Male']\n"
          ]
        }
      ]
    },
    {
      "cell_type": "code",
      "source": [
        "# Features and target\n",
        "x = data.drop([target], axis=1)\n",
        "y = data[target]"
      ],
      "metadata": {
        "id": "SuIfkzN6CfP3"
      },
      "execution_count": 5,
      "outputs": []
    },
    {
      "cell_type": "code",
      "source": [
        "# Identify categorical and numerical columns\n",
        "drop_columns = [\"RowNumber\", \"CustomerId\", \"Surname\"]\n",
        "x = x.drop(drop_columns, axis=1)\n",
        "categorical_cols = x.select_dtypes(include=['object']).columns.to_list()\n",
        "numerical_cols = x.select_dtypes(include=['float64', 'int64']).columns.to_list()\n",
        "print(categorical_cols, numerical_cols)"
      ],
      "metadata": {
        "id": "2MJb322KCjDu",
        "colab": {
          "base_uri": "https://localhost:8080/"
        },
        "outputId": "3a48d349-0df0-4056-cac6-9f1359a254b5"
      },
      "execution_count": 6,
      "outputs": [
        {
          "output_type": "stream",
          "name": "stdout",
          "text": [
            "['Geography', 'Gender'] ['CreditScore', 'Age', 'Tenure', 'Balance', 'NumOfProducts', 'HasCrCard', 'IsActiveMember', 'EstimatedSalary']\n"
          ]
        }
      ]
    },
    {
      "cell_type": "code",
      "source": [
        "# Define ColumnTransformer\n",
        "preprocessor = ColumnTransformer(\n",
        "    transformers=[\n",
        "        (\"cat\", OneHotEncoder(drop=\"first\", handle_unknown=\"ignore\"), categorical_cols),\n",
        "        (\"num\", StandardScaler(), numerical_cols)\n",
        "    ]\n",
        ")"
      ],
      "metadata": {
        "id": "MiwMDAISb8GY"
      },
      "execution_count": 7,
      "outputs": []
    },
    {
      "cell_type": "code",
      "source": [
        "# Train-test split\n",
        "x_train_raw, x_test_raw, y_train, y_test = train_test_split(x, y, test_size=0.2, random_state=42)\n"
      ],
      "metadata": {
        "id": "UxGd7GPbCunl"
      },
      "execution_count": 8,
      "outputs": []
    },
    {
      "cell_type": "code",
      "source": [
        "x_train = preprocessor.fit_transform(x_train_raw)\n",
        "x_test = preprocessor.transform(x_test_raw)"
      ],
      "metadata": {
        "id": "D6k8HNtFFggL"
      },
      "execution_count": 9,
      "outputs": []
    },
    {
      "cell_type": "code",
      "source": [
        "x_train.shape[1]"
      ],
      "metadata": {
        "colab": {
          "base_uri": "https://localhost:8080/"
        },
        "id": "Raz1eNayWRPy",
        "outputId": "0250fce1-f304-4b28-f1c5-31412f4c5e35"
      },
      "execution_count": 10,
      "outputs": [
        {
          "output_type": "execute_result",
          "data": {
            "text/plain": [
              "11"
            ]
          },
          "metadata": {},
          "execution_count": 10
        }
      ]
    },
    {
      "cell_type": "code",
      "source": [],
      "metadata": {
        "id": "J9lkXCBZI_Dc"
      },
      "execution_count": null,
      "outputs": []
    },
    {
      "cell_type": "markdown",
      "source": [
        "3 ReLU hidden layers (20 → 32 → 64 units).\n",
        "\n",
        "He uniform init for weights.\n",
        "\n",
        "Single linear output for continuous target.\n",
        "\n",
        "Compiled with MSE loss and Adam optimizer.\n",
        "\n",
        "Trains for 100 epochs with 20% validation split."
      ],
      "metadata": {
        "id": "iIYxRQ18JBII"
      }
    },
    {
      "cell_type": "markdown",
      "source": [],
      "metadata": {
        "id": "g7xWC9XaI_bD"
      }
    },
    {
      "cell_type": "markdown",
      "source": [
        "Practical tuning checklist (order matters)\n",
        "\n",
        "Scale features.\n",
        "\n",
        "Tune learning rate (factor of 10 grid). Most important.\n",
        "\n",
        "Try smaller network first, then increase width/depth if underfitting.\n",
        "\n",
        "Use EarlyStopping to avoid excess epochs.\n",
        "\n",
        "Add L2 or Dropout if validation loss diverges.\n",
        "\n",
        "Try AdamW or SGD+Momentum for better generalization on large data.\n",
        "\n",
        "Monitor residuals and predictions vs truth scatter."
      ],
      "metadata": {
        "id": "uGUdmAiyJQ-U"
      }
    },
    {
      "cell_type": "code",
      "source": [],
      "metadata": {
        "id": "KgWiMUTy39yD"
      },
      "execution_count": null,
      "outputs": []
    },
    {
      "cell_type": "code",
      "source": [],
      "metadata": {
        "colab": {
          "base_uri": "https://localhost:8080/",
          "height": 211
        },
        "id": "DMWIJd7P3_hf",
        "outputId": "0af3753b-f594-4ff8-8d1c-8ceb95e68859"
      },
      "execution_count": 13,
      "outputs": [
        {
          "output_type": "error",
          "ename": "NameError",
          "evalue": "name 'model' is not defined",
          "traceback": [
            "\u001b[0;31m---------------------------------------------------------------------------\u001b[0m",
            "\u001b[0;31mNameError\u001b[0m                                 Traceback (most recent call last)",
            "\u001b[0;32m/tmp/ipython-input-2861732237.py\u001b[0m in \u001b[0;36m<cell line: 0>\u001b[0;34m()\u001b[0m\n\u001b[1;32m     29\u001b[0m \u001b[0;34m\u001b[0m\u001b[0m\n\u001b[1;32m     30\u001b[0m \u001b[0;31m# Fit with callbacks (replace existing model.fit call)\u001b[0m\u001b[0;34m\u001b[0m\u001b[0;34m\u001b[0m\u001b[0m\n\u001b[0;32m---> 31\u001b[0;31m history = model.fit(\n\u001b[0m\u001b[1;32m     32\u001b[0m     \u001b[0mx_train\u001b[0m\u001b[0;34m,\u001b[0m \u001b[0my_train\u001b[0m\u001b[0;34m,\u001b[0m\u001b[0;34m\u001b[0m\u001b[0;34m\u001b[0m\u001b[0m\n\u001b[1;32m     33\u001b[0m     \u001b[0mvalidation_split\u001b[0m\u001b[0;34m=\u001b[0m\u001b[0;36m0.2\u001b[0m\u001b[0;34m,\u001b[0m\u001b[0;34m\u001b[0m\u001b[0;34m\u001b[0m\u001b[0m\n",
            "\u001b[0;31mNameError\u001b[0m: name 'model' is not defined"
          ]
        }
      ]
    },
    {
      "cell_type": "code",
      "source": [
        "# ==============================\n",
        "# Build ANN Model\n",
        "# ==============================\n",
        "model = Sequential()\n",
        "\n",
        "# Input + First hidden layer\n",
        "model.add(Dense(units=16, input_dim=x_train.shape[1], activation='relu', kernel_initializer='he_uniform'))\n",
        "\n",
        "# Second hidden layer\n",
        "model.add(Dense(units=32, activation='relu', kernel_initializer='he_uniform'))\n",
        "\n",
        "# Third hidden layer\n",
        "model.add(Dense(units=64, activation='relu', kernel_initializer='he_uniform'))\n",
        "\n",
        "# Output layer (sigmoid for binary classification)\n",
        "model.add(Dense(units=1, activation='sigmoid', kernel_initializer='glorot_uniform'))\n",
        "\n",
        "model.summary()"
      ],
      "metadata": {
        "colab": {
          "base_uri": "https://localhost:8080/",
          "height": 312
        },
        "id": "L-1g72qTIeh8",
        "outputId": "6f40cc18-d932-4d6e-bf6b-f22d7881cb93"
      },
      "execution_count": 14,
      "outputs": [
        {
          "output_type": "stream",
          "name": "stderr",
          "text": [
            "/usr/local/lib/python3.12/dist-packages/keras/src/layers/core/dense.py:93: UserWarning: Do not pass an `input_shape`/`input_dim` argument to a layer. When using Sequential models, prefer using an `Input(shape)` object as the first layer in the model instead.\n",
            "  super().__init__(activity_regularizer=activity_regularizer, **kwargs)\n"
          ]
        },
        {
          "output_type": "display_data",
          "data": {
            "text/plain": [
              "\u001b[1mModel: \"sequential\"\u001b[0m\n"
            ],
            "text/html": [
              "<pre style=\"white-space:pre;overflow-x:auto;line-height:normal;font-family:Menlo,'DejaVu Sans Mono',consolas,'Courier New',monospace\"><span style=\"font-weight: bold\">Model: \"sequential\"</span>\n",
              "</pre>\n"
            ]
          },
          "metadata": {}
        },
        {
          "output_type": "display_data",
          "data": {
            "text/plain": [
              "┏━━━━━━━━━━━━━━━━━━━━━━━━━━━━━━━━━┳━━━━━━━━━━━━━━━━━━━━━━━━┳━━━━━━━━━━━━━━━┓\n",
              "┃\u001b[1m \u001b[0m\u001b[1mLayer (type)                   \u001b[0m\u001b[1m \u001b[0m┃\u001b[1m \u001b[0m\u001b[1mOutput Shape          \u001b[0m\u001b[1m \u001b[0m┃\u001b[1m \u001b[0m\u001b[1m      Param #\u001b[0m\u001b[1m \u001b[0m┃\n",
              "┡━━━━━━━━━━━━━━━━━━━━━━━━━━━━━━━━━╇━━━━━━━━━━━━━━━━━━━━━━━━╇━━━━━━━━━━━━━━━┩\n",
              "│ dense (\u001b[38;5;33mDense\u001b[0m)                   │ (\u001b[38;5;45mNone\u001b[0m, \u001b[38;5;34m16\u001b[0m)             │           \u001b[38;5;34m192\u001b[0m │\n",
              "├─────────────────────────────────┼────────────────────────┼───────────────┤\n",
              "│ dense_1 (\u001b[38;5;33mDense\u001b[0m)                 │ (\u001b[38;5;45mNone\u001b[0m, \u001b[38;5;34m32\u001b[0m)             │           \u001b[38;5;34m544\u001b[0m │\n",
              "├─────────────────────────────────┼────────────────────────┼───────────────┤\n",
              "│ dense_2 (\u001b[38;5;33mDense\u001b[0m)                 │ (\u001b[38;5;45mNone\u001b[0m, \u001b[38;5;34m64\u001b[0m)             │         \u001b[38;5;34m2,112\u001b[0m │\n",
              "├─────────────────────────────────┼────────────────────────┼───────────────┤\n",
              "│ dense_3 (\u001b[38;5;33mDense\u001b[0m)                 │ (\u001b[38;5;45mNone\u001b[0m, \u001b[38;5;34m1\u001b[0m)              │            \u001b[38;5;34m65\u001b[0m │\n",
              "└─────────────────────────────────┴────────────────────────┴───────────────┘\n"
            ],
            "text/html": [
              "<pre style=\"white-space:pre;overflow-x:auto;line-height:normal;font-family:Menlo,'DejaVu Sans Mono',consolas,'Courier New',monospace\">┏━━━━━━━━━━━━━━━━━━━━━━━━━━━━━━━━━┳━━━━━━━━━━━━━━━━━━━━━━━━┳━━━━━━━━━━━━━━━┓\n",
              "┃<span style=\"font-weight: bold\"> Layer (type)                    </span>┃<span style=\"font-weight: bold\"> Output Shape           </span>┃<span style=\"font-weight: bold\">       Param # </span>┃\n",
              "┡━━━━━━━━━━━━━━━━━━━━━━━━━━━━━━━━━╇━━━━━━━━━━━━━━━━━━━━━━━━╇━━━━━━━━━━━━━━━┩\n",
              "│ dense (<span style=\"color: #0087ff; text-decoration-color: #0087ff\">Dense</span>)                   │ (<span style=\"color: #00d7ff; text-decoration-color: #00d7ff\">None</span>, <span style=\"color: #00af00; text-decoration-color: #00af00\">16</span>)             │           <span style=\"color: #00af00; text-decoration-color: #00af00\">192</span> │\n",
              "├─────────────────────────────────┼────────────────────────┼───────────────┤\n",
              "│ dense_1 (<span style=\"color: #0087ff; text-decoration-color: #0087ff\">Dense</span>)                 │ (<span style=\"color: #00d7ff; text-decoration-color: #00d7ff\">None</span>, <span style=\"color: #00af00; text-decoration-color: #00af00\">32</span>)             │           <span style=\"color: #00af00; text-decoration-color: #00af00\">544</span> │\n",
              "├─────────────────────────────────┼────────────────────────┼───────────────┤\n",
              "│ dense_2 (<span style=\"color: #0087ff; text-decoration-color: #0087ff\">Dense</span>)                 │ (<span style=\"color: #00d7ff; text-decoration-color: #00d7ff\">None</span>, <span style=\"color: #00af00; text-decoration-color: #00af00\">64</span>)             │         <span style=\"color: #00af00; text-decoration-color: #00af00\">2,112</span> │\n",
              "├─────────────────────────────────┼────────────────────────┼───────────────┤\n",
              "│ dense_3 (<span style=\"color: #0087ff; text-decoration-color: #0087ff\">Dense</span>)                 │ (<span style=\"color: #00d7ff; text-decoration-color: #00d7ff\">None</span>, <span style=\"color: #00af00; text-decoration-color: #00af00\">1</span>)              │            <span style=\"color: #00af00; text-decoration-color: #00af00\">65</span> │\n",
              "└─────────────────────────────────┴────────────────────────┴───────────────┘\n",
              "</pre>\n"
            ]
          },
          "metadata": {}
        },
        {
          "output_type": "display_data",
          "data": {
            "text/plain": [
              "\u001b[1m Total params: \u001b[0m\u001b[38;5;34m2,913\u001b[0m (11.38 KB)\n"
            ],
            "text/html": [
              "<pre style=\"white-space:pre;overflow-x:auto;line-height:normal;font-family:Menlo,'DejaVu Sans Mono',consolas,'Courier New',monospace\"><span style=\"font-weight: bold\"> Total params: </span><span style=\"color: #00af00; text-decoration-color: #00af00\">2,913</span> (11.38 KB)\n",
              "</pre>\n"
            ]
          },
          "metadata": {}
        },
        {
          "output_type": "display_data",
          "data": {
            "text/plain": [
              "\u001b[1m Trainable params: \u001b[0m\u001b[38;5;34m2,913\u001b[0m (11.38 KB)\n"
            ],
            "text/html": [
              "<pre style=\"white-space:pre;overflow-x:auto;line-height:normal;font-family:Menlo,'DejaVu Sans Mono',consolas,'Courier New',monospace\"><span style=\"font-weight: bold\"> Trainable params: </span><span style=\"color: #00af00; text-decoration-color: #00af00\">2,913</span> (11.38 KB)\n",
              "</pre>\n"
            ]
          },
          "metadata": {}
        },
        {
          "output_type": "display_data",
          "data": {
            "text/plain": [
              "\u001b[1m Non-trainable params: \u001b[0m\u001b[38;5;34m0\u001b[0m (0.00 B)\n"
            ],
            "text/html": [
              "<pre style=\"white-space:pre;overflow-x:auto;line-height:normal;font-family:Menlo,'DejaVu Sans Mono',consolas,'Courier New',monospace\"><span style=\"font-weight: bold\"> Non-trainable params: </span><span style=\"color: #00af00; text-decoration-color: #00af00\">0</span> (0.00 B)\n",
              "</pre>\n"
            ]
          },
          "metadata": {}
        }
      ]
    },
    {
      "cell_type": "code",
      "source": [],
      "metadata": {
        "id": "2-AfWeFZ4gX-"
      },
      "execution_count": null,
      "outputs": []
    },
    {
      "cell_type": "code",
      "source": [
        "# ==============================\n",
        "# Compile the model\n",
        "# ==============================\n",
        "model.compile(loss='binary_crossentropy',\n",
        "              optimizer='adam',\n",
        "              metrics=['accuracy'])\n"
      ],
      "metadata": {
        "id": "9kE5LMgBIool"
      },
      "execution_count": 15,
      "outputs": []
    },
    {
      "cell_type": "code",
      "source": [
        "# # --- Code cell: callbacks + training with EarlyStopping ---\n",
        "# from tensorflow.keras.callbacks import EarlyStopping, ReduceLROnPlateau, ModelCheckpoint\n",
        "\n",
        "# # Early stopping: stop when validation loss stops improving\n",
        "# es = EarlyStopping(\n",
        "#     monitor='val_loss',         # what to watch (use 'val_accuracy' if you prefer)\n",
        "#     patience=8,                 # wait this many epochs with no improvement\n",
        "#     min_delta=1e-4,             # minimum change to qualify as improvement\n",
        "#     restore_best_weights=True,  # after stop, keep weights from best epoch\n",
        "#     verbose=1\n",
        "# )\n",
        "\n",
        "# # Reduce LR on plateau: lower LR when val_loss plateaus\n",
        "# rlp = ReduceLROnPlateau(\n",
        "#     monitor='val_loss',\n",
        "#     factor=0.5,     # LR = LR * factor\n",
        "#     patience=4,\n",
        "#     min_lr=1e-6,\n",
        "#     verbose=1\n",
        "# )\n",
        "\n",
        "# # Save best model to disk\n",
        "# mc = ModelCheckpoint(\n",
        "#     'best_model.h5',\n",
        "#     monitor='val_loss',\n",
        "#     save_best_only=True,\n",
        "#     verbose=1\n",
        "# )\n",
        "\n",
        "# # Fit with callbacks (replace existing model.fit call)\n",
        "# history = model.fit(\n",
        "#     x_train, y_train,\n",
        "#     validation_split=0.2,\n",
        "#     epochs=50,\n",
        "#     batch_size=32,\n",
        "#     verbose=1,\n",
        "#     callbacks=[es, rlp, mc]\n",
        "# )\n",
        "\n",
        "# # Optional: print best epoch info (colab-friendly)\n",
        "# best_epoch = int(np.argmin(history.history['val_loss']) + 1)\n",
        "# best_val_loss = np.min(history.history['val_loss'])\n",
        "# print(f\"Best epoch (by val_loss): {best_epoch}, val_loss={best_val_loss:.6f}\")\n"
      ],
      "metadata": {
        "id": "5chKeA_14if_"
      },
      "execution_count": 18,
      "outputs": []
    },
    {
      "cell_type": "markdown",
      "source": [
        "Early stopping stops training when the monitored metric (here val_loss) stops improving.\n",
        "Key options:\n",
        "- monitor: which metric to watch. Use 'val_loss' for stable objective or 'val_accuracy' for classification accuracy.\n",
        "- patience: how many epochs to wait after the last improvement before stopping. Smaller patience stops earlier. Typical: 3–10.\n",
        "- min_delta: minimum improvement considered significant.\n",
        "- restore_best_weights: when True the model is returned to the weights from the best epoch.\n",
        "\n",
        "ReduceLROnPlateau lowers the learning rate when the monitored metric plateaus. This helps escape small plateaus and find finer minima.\n",
        "\n",
        "ModelCheckpoint saves the best model (by monitored metric) to disk so you can load it later without re-training.\n",
        "\n",
        "Why use them:\n",
        "- Avoid wasted epochs once performance stops improving.\n",
        "- Prevent overfitting by stopping before validation gets worse.\n",
        "- Automate LR tuning during training.\n",
        "- Persist the best model automatically.\n",
        "\n",
        "Tradeoffs and tips:\n",
        "- If patience is too small you may stop before genuine slow improvements. Set 5–10 for noisy datasets.\n",
        "- Monitor validation metric, not training metric.\n",
        "- Combine EarlyStopping + RestoreBestWeights + ModelCheckpoint for safety.\n",
        "- If training never improves, debug data scaling, architecture, or LR.\n"
      ],
      "metadata": {
        "id": "rURXUoMg46Qo"
      }
    },
    {
      "cell_type": "code",
      "source": [
        "# ==============================\n",
        "# Train the model\n",
        "# ==============================\n",
        "history = model.fit(x_train, y_train,\n",
        "                    validation_split=0.2,\n",
        "                    epochs=50,\n",
        "                    batch_size=32,\n",
        "                    verbose=1)"
      ],
      "metadata": {
        "colab": {
          "base_uri": "https://localhost:8080/"
        },
        "id": "S1w_x_2nIyJ_",
        "outputId": "8e20bea3-6b4b-410c-b719-bfc44f181ea7"
      },
      "execution_count": null,
      "outputs": [
        {
          "output_type": "stream",
          "name": "stdout",
          "text": [
            "Epoch 1/50\n",
            "\u001b[1m200/200\u001b[0m \u001b[32m━━━━━━━━━━━━━━━━━━━━\u001b[0m\u001b[37m\u001b[0m \u001b[1m2s\u001b[0m 4ms/step - accuracy: 0.7996 - loss: 0.5328 - val_accuracy: 0.8325 - val_loss: 0.4321\n",
            "Epoch 2/50\n",
            "\u001b[1m200/200\u001b[0m \u001b[32m━━━━━━━━━━━━━━━━━━━━\u001b[0m\u001b[37m\u001b[0m \u001b[1m0s\u001b[0m 2ms/step - accuracy: 0.8169 - loss: 0.4211 - val_accuracy: 0.8363 - val_loss: 0.3897\n",
            "Epoch 3/50\n",
            "\u001b[1m200/200\u001b[0m \u001b[32m━━━━━━━━━━━━━━━━━━━━\u001b[0m\u001b[37m\u001b[0m \u001b[1m0s\u001b[0m 2ms/step - accuracy: 0.8383 - loss: 0.3821 - val_accuracy: 0.8438 - val_loss: 0.3757\n",
            "Epoch 4/50\n",
            "\u001b[1m200/200\u001b[0m \u001b[32m━━━━━━━━━━━━━━━━━━━━\u001b[0m\u001b[37m\u001b[0m \u001b[1m0s\u001b[0m 2ms/step - accuracy: 0.8560 - loss: 0.3604 - val_accuracy: 0.8506 - val_loss: 0.3591\n",
            "Epoch 5/50\n",
            "\u001b[1m200/200\u001b[0m \u001b[32m━━━━━━━━━━━━━━━━━━━━\u001b[0m\u001b[37m\u001b[0m \u001b[1m1s\u001b[0m 2ms/step - accuracy: 0.8505 - loss: 0.3538 - val_accuracy: 0.8481 - val_loss: 0.3546\n",
            "Epoch 6/50\n",
            "\u001b[1m200/200\u001b[0m \u001b[32m━━━━━━━━━━━━━━━━━━━━\u001b[0m\u001b[37m\u001b[0m \u001b[1m0s\u001b[0m 2ms/step - accuracy: 0.8517 - loss: 0.3534 - val_accuracy: 0.8519 - val_loss: 0.3611\n",
            "Epoch 7/50\n",
            "\u001b[1m200/200\u001b[0m \u001b[32m━━━━━━━━━━━━━━━━━━━━\u001b[0m\u001b[37m\u001b[0m \u001b[1m1s\u001b[0m 2ms/step - accuracy: 0.8550 - loss: 0.3429 - val_accuracy: 0.8487 - val_loss: 0.3546\n",
            "Epoch 8/50\n",
            "\u001b[1m200/200\u001b[0m \u001b[32m━━━━━━━━━━━━━━━━━━━━\u001b[0m\u001b[37m\u001b[0m \u001b[1m0s\u001b[0m 2ms/step - accuracy: 0.8550 - loss: 0.3398 - val_accuracy: 0.8506 - val_loss: 0.3608\n",
            "Epoch 9/50\n",
            "\u001b[1m200/200\u001b[0m \u001b[32m━━━━━━━━━━━━━━━━━━━━\u001b[0m\u001b[37m\u001b[0m \u001b[1m0s\u001b[0m 2ms/step - accuracy: 0.8562 - loss: 0.3465 - val_accuracy: 0.8456 - val_loss: 0.3539\n",
            "Epoch 10/50\n",
            "\u001b[1m200/200\u001b[0m \u001b[32m━━━━━━━━━━━━━━━━━━━━\u001b[0m\u001b[37m\u001b[0m \u001b[1m1s\u001b[0m 1ms/step - accuracy: 0.8631 - loss: 0.3330 - val_accuracy: 0.8537 - val_loss: 0.3501\n",
            "Epoch 11/50\n",
            "\u001b[1m200/200\u001b[0m \u001b[32m━━━━━━━━━━━━━━━━━━━━\u001b[0m\u001b[37m\u001b[0m \u001b[1m1s\u001b[0m 3ms/step - accuracy: 0.8613 - loss: 0.3312 - val_accuracy: 0.8519 - val_loss: 0.3479\n",
            "Epoch 12/50\n",
            "\u001b[1m200/200\u001b[0m \u001b[32m━━━━━━━━━━━━━━━━━━━━\u001b[0m\u001b[37m\u001b[0m \u001b[1m0s\u001b[0m 2ms/step - accuracy: 0.8669 - loss: 0.3303 - val_accuracy: 0.8506 - val_loss: 0.3462\n",
            "Epoch 13/50\n",
            "\u001b[1m200/200\u001b[0m \u001b[32m━━━━━━━━━━━━━━━━━━━━\u001b[0m\u001b[37m\u001b[0m \u001b[1m1s\u001b[0m 2ms/step - accuracy: 0.8735 - loss: 0.3149 - val_accuracy: 0.8519 - val_loss: 0.3452\n",
            "Epoch 14/50\n",
            "\u001b[1m200/200\u001b[0m \u001b[32m━━━━━━━━━━━━━━━━━━━━\u001b[0m\u001b[37m\u001b[0m \u001b[1m0s\u001b[0m 2ms/step - accuracy: 0.8677 - loss: 0.3196 - val_accuracy: 0.8512 - val_loss: 0.3464\n",
            "Epoch 15/50\n",
            "\u001b[1m200/200\u001b[0m \u001b[32m━━━━━━━━━━━━━━━━━━━━\u001b[0m\u001b[37m\u001b[0m \u001b[1m1s\u001b[0m 2ms/step - accuracy: 0.8589 - loss: 0.3251 - val_accuracy: 0.8500 - val_loss: 0.3478\n",
            "Epoch 16/50\n",
            "\u001b[1m200/200\u001b[0m \u001b[32m━━━━━━━━━━━━━━━━━━━━\u001b[0m\u001b[37m\u001b[0m \u001b[1m1s\u001b[0m 2ms/step - accuracy: 0.8554 - loss: 0.3264 - val_accuracy: 0.8544 - val_loss: 0.3438\n",
            "Epoch 17/50\n",
            "\u001b[1m200/200\u001b[0m \u001b[32m━━━━━━━━━━━━━━━━━━━━\u001b[0m\u001b[37m\u001b[0m \u001b[1m0s\u001b[0m 2ms/step - accuracy: 0.8648 - loss: 0.3131 - val_accuracy: 0.8500 - val_loss: 0.3474\n",
            "Epoch 18/50\n",
            "\u001b[1m200/200\u001b[0m \u001b[32m━━━━━━━━━━━━━━━━━━━━\u001b[0m\u001b[37m\u001b[0m \u001b[1m0s\u001b[0m 1ms/step - accuracy: 0.8670 - loss: 0.3195 - val_accuracy: 0.8500 - val_loss: 0.3467\n",
            "Epoch 19/50\n",
            "\u001b[1m200/200\u001b[0m \u001b[32m━━━━━━━━━━━━━━━━━━━━\u001b[0m\u001b[37m\u001b[0m \u001b[1m0s\u001b[0m 2ms/step - accuracy: 0.8669 - loss: 0.3148 - val_accuracy: 0.8500 - val_loss: 0.3524\n",
            "Epoch 20/50\n",
            "\u001b[1m200/200\u001b[0m \u001b[32m━━━━━━━━━━━━━━━━━━━━\u001b[0m\u001b[37m\u001b[0m \u001b[1m1s\u001b[0m 2ms/step - accuracy: 0.8663 - loss: 0.3130 - val_accuracy: 0.8519 - val_loss: 0.3451\n",
            "Epoch 21/50\n",
            "\u001b[1m200/200\u001b[0m \u001b[32m━━━━━━━━━━━━━━━━━━━━\u001b[0m\u001b[37m\u001b[0m \u001b[1m0s\u001b[0m 2ms/step - accuracy: 0.8649 - loss: 0.3109 - val_accuracy: 0.8500 - val_loss: 0.3500\n",
            "Epoch 22/50\n",
            "\u001b[1m200/200\u001b[0m \u001b[32m━━━━━━━━━━━━━━━━━━━━\u001b[0m\u001b[37m\u001b[0m \u001b[1m1s\u001b[0m 2ms/step - accuracy: 0.8693 - loss: 0.3092 - val_accuracy: 0.8550 - val_loss: 0.3454\n",
            "Epoch 23/50\n",
            "\u001b[1m200/200\u001b[0m \u001b[32m━━━━━━━━━━━━━━━━━━━━\u001b[0m\u001b[37m\u001b[0m \u001b[1m1s\u001b[0m 3ms/step - accuracy: 0.8770 - loss: 0.3028 - val_accuracy: 0.8512 - val_loss: 0.3456\n",
            "Epoch 24/50\n",
            "\u001b[1m200/200\u001b[0m \u001b[32m━━━━━━━━━━━━━━━━━━━━\u001b[0m\u001b[37m\u001b[0m \u001b[1m1s\u001b[0m 3ms/step - accuracy: 0.8728 - loss: 0.3092 - val_accuracy: 0.8537 - val_loss: 0.3516\n",
            "Epoch 25/50\n",
            "\u001b[1m200/200\u001b[0m \u001b[32m━━━━━━━━━━━━━━━━━━━━\u001b[0m\u001b[37m\u001b[0m \u001b[1m1s\u001b[0m 3ms/step - accuracy: 0.8708 - loss: 0.3037 - val_accuracy: 0.8512 - val_loss: 0.3549\n",
            "Epoch 26/50\n",
            "\u001b[1m200/200\u001b[0m \u001b[32m━━━━━━━━━━━━━━━━━━━━\u001b[0m\u001b[37m\u001b[0m \u001b[1m0s\u001b[0m 2ms/step - accuracy: 0.8789 - loss: 0.2961 - val_accuracy: 0.8494 - val_loss: 0.3503\n",
            "Epoch 27/50\n",
            "\u001b[1m200/200\u001b[0m \u001b[32m━━━━━━━━━━━━━━━━━━━━\u001b[0m\u001b[37m\u001b[0m \u001b[1m0s\u001b[0m 2ms/step - accuracy: 0.8734 - loss: 0.3082 - val_accuracy: 0.8525 - val_loss: 0.3480\n",
            "Epoch 28/50\n",
            "\u001b[1m200/200\u001b[0m \u001b[32m━━━━━━━━━━━━━━━━━━━━\u001b[0m\u001b[37m\u001b[0m \u001b[1m1s\u001b[0m 3ms/step - accuracy: 0.8736 - loss: 0.2972 - val_accuracy: 0.8537 - val_loss: 0.3488\n",
            "Epoch 29/50\n",
            "\u001b[1m200/200\u001b[0m \u001b[32m━━━━━━━━━━━━━━━━━━━━\u001b[0m\u001b[37m\u001b[0m \u001b[1m1s\u001b[0m 3ms/step - accuracy: 0.8740 - loss: 0.2986 - val_accuracy: 0.8537 - val_loss: 0.3548\n",
            "Epoch 30/50\n",
            "\u001b[1m200/200\u001b[0m \u001b[32m━━━━━━━━━━━━━━━━━━━━\u001b[0m\u001b[37m\u001b[0m \u001b[1m1s\u001b[0m 3ms/step - accuracy: 0.8764 - loss: 0.2990 - val_accuracy: 0.8537 - val_loss: 0.3487\n",
            "Epoch 31/50\n",
            "\u001b[1m200/200\u001b[0m \u001b[32m━━━━━━━━━━━━━━━━━━━━\u001b[0m\u001b[37m\u001b[0m \u001b[1m1s\u001b[0m 3ms/step - accuracy: 0.8784 - loss: 0.2953 - val_accuracy: 0.8531 - val_loss: 0.3487\n",
            "Epoch 32/50\n",
            "\u001b[1m200/200\u001b[0m \u001b[32m━━━━━━━━━━━━━━━━━━━━\u001b[0m\u001b[37m\u001b[0m \u001b[1m1s\u001b[0m 2ms/step - accuracy: 0.8746 - loss: 0.2930 - val_accuracy: 0.8487 - val_loss: 0.3524\n",
            "Epoch 33/50\n",
            "\u001b[1m200/200\u001b[0m \u001b[32m━━━━━━━━━━━━━━━━━━━━\u001b[0m\u001b[37m\u001b[0m \u001b[1m1s\u001b[0m 2ms/step - accuracy: 0.8727 - loss: 0.2953 - val_accuracy: 0.8544 - val_loss: 0.3524\n",
            "Epoch 34/50\n",
            "\u001b[1m200/200\u001b[0m \u001b[32m━━━━━━━━━━━━━━━━━━━━\u001b[0m\u001b[37m\u001b[0m \u001b[1m0s\u001b[0m 2ms/step - accuracy: 0.8801 - loss: 0.2903 - val_accuracy: 0.8537 - val_loss: 0.3499\n",
            "Epoch 35/50\n",
            "\u001b[1m200/200\u001b[0m \u001b[32m━━━━━━━━━━━━━━━━━━━━\u001b[0m\u001b[37m\u001b[0m \u001b[1m0s\u001b[0m 2ms/step - accuracy: 0.8786 - loss: 0.2970 - val_accuracy: 0.8544 - val_loss: 0.3482\n",
            "Epoch 36/50\n",
            "\u001b[1m200/200\u001b[0m \u001b[32m━━━━━━━━━━━━━━━━━━━━\u001b[0m\u001b[37m\u001b[0m \u001b[1m1s\u001b[0m 2ms/step - accuracy: 0.8870 - loss: 0.2749 - val_accuracy: 0.8500 - val_loss: 0.3528\n",
            "Epoch 37/50\n",
            "\u001b[1m200/200\u001b[0m \u001b[32m━━━━━━━━━━━━━━━━━━━━\u001b[0m\u001b[37m\u001b[0m \u001b[1m1s\u001b[0m 2ms/step - accuracy: 0.8832 - loss: 0.2844 - val_accuracy: 0.8512 - val_loss: 0.3532\n",
            "Epoch 38/50\n",
            "\u001b[1m200/200\u001b[0m \u001b[32m━━━━━━━━━━━━━━━━━━━━\u001b[0m\u001b[37m\u001b[0m \u001b[1m1s\u001b[0m 2ms/step - accuracy: 0.8832 - loss: 0.2893 - val_accuracy: 0.8487 - val_loss: 0.3573\n",
            "Epoch 39/50\n",
            "\u001b[1m200/200\u001b[0m \u001b[32m━━━━━━━━━━━━━━━━━━━━\u001b[0m\u001b[37m\u001b[0m \u001b[1m1s\u001b[0m 2ms/step - accuracy: 0.8809 - loss: 0.2921 - val_accuracy: 0.8506 - val_loss: 0.3558\n",
            "Epoch 40/50\n",
            "\u001b[1m200/200\u001b[0m \u001b[32m━━━━━━━━━━━━━━━━━━━━\u001b[0m\u001b[37m\u001b[0m \u001b[1m1s\u001b[0m 2ms/step - accuracy: 0.8839 - loss: 0.2777 - val_accuracy: 0.8537 - val_loss: 0.3571\n",
            "Epoch 41/50\n",
            "\u001b[1m200/200\u001b[0m \u001b[32m━━━━━━━━━━━━━━━━━━━━\u001b[0m\u001b[37m\u001b[0m \u001b[1m0s\u001b[0m 2ms/step - accuracy: 0.8847 - loss: 0.2847 - val_accuracy: 0.8525 - val_loss: 0.3682\n",
            "Epoch 42/50\n",
            "\u001b[1m200/200\u001b[0m \u001b[32m━━━━━━━━━━━━━━━━━━━━\u001b[0m\u001b[37m\u001b[0m \u001b[1m1s\u001b[0m 2ms/step - accuracy: 0.8854 - loss: 0.2798 - val_accuracy: 0.8519 - val_loss: 0.3641\n",
            "Epoch 43/50\n",
            "\u001b[1m200/200\u001b[0m \u001b[32m━━━━━━━━━━━━━━━━━━━━\u001b[0m\u001b[37m\u001b[0m \u001b[1m1s\u001b[0m 3ms/step - accuracy: 0.8777 - loss: 0.2966 - val_accuracy: 0.8537 - val_loss: 0.3692\n",
            "Epoch 44/50\n",
            "\u001b[1m200/200\u001b[0m \u001b[32m━━━━━━━━━━━━━━━━━━━━\u001b[0m\u001b[37m\u001b[0m \u001b[1m1s\u001b[0m 6ms/step - accuracy: 0.8898 - loss: 0.2737 - val_accuracy: 0.8537 - val_loss: 0.3670\n",
            "Epoch 45/50\n",
            "\u001b[1m200/200\u001b[0m \u001b[32m━━━━━━━━━━━━━━━━━━━━\u001b[0m\u001b[37m\u001b[0m \u001b[1m1s\u001b[0m 4ms/step - accuracy: 0.8840 - loss: 0.2817 - val_accuracy: 0.8481 - val_loss: 0.3560\n",
            "Epoch 46/50\n",
            "\u001b[1m200/200\u001b[0m \u001b[32m━━━━━━━━━━━━━━━━━━━━\u001b[0m\u001b[37m\u001b[0m \u001b[1m1s\u001b[0m 3ms/step - accuracy: 0.8890 - loss: 0.2704 - val_accuracy: 0.8431 - val_loss: 0.3592\n",
            "Epoch 47/50\n",
            "\u001b[1m200/200\u001b[0m \u001b[32m━━━━━━━━━━━━━━━━━━━━\u001b[0m\u001b[37m\u001b[0m \u001b[1m1s\u001b[0m 3ms/step - accuracy: 0.8851 - loss: 0.2804 - val_accuracy: 0.8369 - val_loss: 0.3753\n",
            "Epoch 48/50\n",
            "\u001b[1m200/200\u001b[0m \u001b[32m━━━━━━━━━━━━━━━━━━━━\u001b[0m\u001b[37m\u001b[0m \u001b[1m1s\u001b[0m 2ms/step - accuracy: 0.8852 - loss: 0.2730 - val_accuracy: 0.8462 - val_loss: 0.3606\n",
            "Epoch 49/50\n",
            "\u001b[1m200/200\u001b[0m \u001b[32m━━━━━━━━━━━━━━━━━━━━\u001b[0m\u001b[37m\u001b[0m \u001b[1m1s\u001b[0m 2ms/step - accuracy: 0.8966 - loss: 0.2616 - val_accuracy: 0.8462 - val_loss: 0.3681\n",
            "Epoch 50/50\n",
            "\u001b[1m200/200\u001b[0m \u001b[32m━━━━━━━━━━━━━━━━━━━━\u001b[0m\u001b[37m\u001b[0m \u001b[1m1s\u001b[0m 2ms/step - accuracy: 0.8836 - loss: 0.2790 - val_accuracy: 0.8531 - val_loss: 0.3892\n"
          ]
        }
      ]
    },
    {
      "cell_type": "code",
      "source": [
        "\n",
        "# import numpy as np\n",
        "# import pandas as pd\n",
        "# import matplotlib.pyplot as plt\n",
        "# from sklearn.metrics import (\n",
        "#     accuracy_score, precision_score, recall_score, f1_score,\n",
        "#     roc_auc_score, average_precision_score, confusion_matrix,\n",
        "#     classification_report, roc_curve, precision_recall_curve\n",
        "# )\n",
        "# import math\n",
        "\n",
        "# # Choose evaluation set: prefer test, then val, then train\n",
        "# if 'x_test' in globals() and 'y_test' in globals():\n",
        "#     X_eval, y_true = x_test, y_test\n",
        "#     tag = 'test'\n",
        "# elif 'x_val' in globals() and 'y_val' in globals():\n",
        "#     X_eval, y_true = x_val, y_val\n",
        "#     tag = 'val'\n",
        "# else:\n",
        "#     X_eval, y_true = x_train, y_train\n",
        "#     tag = 'train'\n",
        "\n",
        "# # Ensure arrays\n",
        "# y_true = np.asarray(y_true).ravel()\n",
        "# X_eval = np.asarray(X_eval)\n",
        "\n",
        "# # Validate binary target\n",
        "# unique_y = np.unique(y_true)\n",
        "# if not set(unique_y).issubset({0,1}):\n",
        "#     raise ValueError(f\"Target on chosen set ({tag}) is not binary 0/1. Found classes: {unique_y}\")\n",
        "\n",
        "# # Raw model output\n",
        "# y_raw = model.predict(X_eval)\n",
        "# y_raw = np.asarray(y_raw).ravel()\n",
        "\n",
        "# # Convert raw outputs to probabilities and predicted labels\n",
        "# def sigmoid(x):\n",
        "#     return 1 / (1 + np.exp(-x))\n",
        "\n",
        "# # Determine whether outputs are already probabilities, logits, or class labels\n",
        "# if np.array_equal(y_raw, y_raw.astype(int)) and set(np.unique(y_raw)).issubset({0,1}):\n",
        "#     probs = None\n",
        "#     preds = y_raw.astype(int)\n",
        "# elif np.nanmin(y_raw) >= 0.0 and np.nanmax(y_raw) <= 1.0:\n",
        "#     # likely probabilities\n",
        "#     probs = np.clip(y_raw, 0, 1)\n",
        "#     preds = (probs >= 0.5).astype(int)\n",
        "# else:\n",
        "#     # treat as logits or unconstrained scores -> apply sigmoid\n",
        "#     probs = sigmoid(y_raw)\n",
        "#     preds = (probs >= 0.5).astype(int)\n",
        "\n",
        "# # Compute metrics\n",
        "# metrics = {}\n",
        "# metrics['accuracy'] = accuracy_score(y_true, preds)\n",
        "# metrics['precision'] = precision_score(y_true, preds, zero_division=0)\n",
        "# metrics['recall'] = recall_score(y_true, preds, zero_division=0)\n",
        "# metrics['f1'] = f1_score(y_true, preds, zero_division=0)\n",
        "\n",
        "# # ROC AUC & average precision require probabilities and at least two classes present\n",
        "# if probs is not None and len(unique_y) > 1 and (np.unique(y_true).size == 2):\n",
        "#     try:\n",
        "#         metrics['roc_auc'] = roc_auc_score(y_true, probs)\n",
        "#     except Exception:\n",
        "#         metrics['roc_auc'] = float('nan')\n",
        "#     try:\n",
        "#         metrics['avg_precision'] = average_precision_score(y_true, probs)\n",
        "#     except Exception:\n",
        "#         metrics['avg_precision'] = float('nan')\n",
        "# else:\n",
        "#     metrics['roc_auc'] = float('nan')\n",
        "#     metrics['avg_precision'] = float('nan')\n",
        "\n",
        "# # Show metric table\n",
        "# df_metrics = pd.DataFrame(metrics, index=[f'{tag}']).T\n",
        "# display(df_metrics.round(4))\n",
        "\n",
        "# # Confusion matrix and classification report\n",
        "# cm = confusion_matrix(y_true, preds)\n",
        "# print(f\"\\nConfusion matrix (rows=true, cols=pred) on {tag} set:\\n{cm}\\n\")\n",
        "# print(\"Classification report (precision, recall, f1):\")\n",
        "# print(classification_report(y_true, preds, digits=4, zero_division=0))\n",
        "\n",
        "# # If probabilities available, plot ROC & PR and compute best threshold by F1\n",
        "# if probs is not None:\n",
        "#     # ROC\n",
        "#     fpr, tpr, roc_th = roc_curve(y_true, probs)\n",
        "#     # PR\n",
        "#     prec, rec, pr_th = precision_recall_curve(y_true, probs)\n",
        "\n",
        "#     fig, ax = plt.subplots(1,2, figsize=(12,5))\n",
        "#     ax[0].plot(fpr, tpr, label=f'ROC AUC = {metrics[\"roc_auc\"]:.4f}')\n",
        "#     ax[0].plot([0,1],[0,1],'--', linewidth=0.8)\n",
        "#     ax[0].set_title('ROC curve')\n",
        "#     ax[0].set_xlabel('False Positive Rate')\n",
        "#     ax[0].set_ylabel('True Positive Rate')\n",
        "#     ax[0].legend(loc='lower right')\n",
        "\n",
        "#     ax[1].plot(rec, prec, label=f'AP = {metrics[\"avg_precision\"]:.4f}')\n",
        "#     ax[1].set_title('Precision-Recall curve')\n",
        "#     ax[1].set_xlabel('Recall')\n",
        "#     ax[1].set_ylabel('Precision')\n",
        "#     ax[1].legend(loc='lower left')\n",
        "\n",
        "#     plt.show()\n",
        "\n",
        "#     # Find best threshold by maximizing F1 (search grid)\n",
        "#     thr_grid = np.linspace(0.0, 1.0, 101)\n",
        "#     best_thr, best_f1 = 0.5, metrics['f1']\n",
        "#     f1_list = []\n",
        "#     for t in thr_grid:\n",
        "#         p = (probs >= t).astype(int)\n",
        "#         f = f1_score(y_true, p, zero_division=0)\n",
        "#         f1_list.append(f)\n",
        "#         if f > best_f1:\n",
        "#             best_f1, best_thr = f, t\n",
        "\n",
        "#     print(f\"Default threshold=0.5 F1 = {metrics['f1']:.4f}\")\n",
        "#     print(f\"Best threshold by F1 = {best_thr:.2f} with F1 = {best_f1:.4f}\")\n",
        "\n",
        "#     # Plot F1 vs threshold\n",
        "#     plt.figure(figsize=(6,3))\n",
        "#     plt.plot(thr_grid, f1_list, marker='.', linewidth=1)\n",
        "#     plt.axvline(best_thr, color='C1', linestyle='--', label=f'best thr {best_thr:.2f}')\n",
        "#     plt.title('F1 vs threshold')\n",
        "#     plt.xlabel('threshold')\n",
        "#     plt.ylabel('F1 score')\n",
        "#     plt.legend()\n",
        "#     plt.grid(alpha=0.2)\n",
        "#     plt.show()\n",
        "\n",
        "# # Show sample true vs prob vs pred (first 15)\n",
        "# sample_n = min(15, len(y_true))\n",
        "# if probs is None:\n",
        "#     sample_df = pd.DataFrame({'true': y_true[:sample_n], 'pred': preds[:sample_n]})\n",
        "# else:\n",
        "#     sample_df = pd.DataFrame({'true': y_true[:sample_n], 'prob': probs[:sample_n], 'pred': preds[:sample_n]})\n",
        "# display(sample_df)\n",
        "\n",
        "# # Optional: save metrics CSV\n",
        "# df_metrics.to_csv(f'binary_metrics_{tag}.csv')\n",
        "# print(f\"Metrics saved to binary_metrics_{tag}.csv\")\n"
      ],
      "metadata": {
        "id": "Bfohhrva5m7x"
      },
      "execution_count": 19,
      "outputs": []
    },
    {
      "cell_type": "code",
      "source": [
        "weights, bias = model.layers[0].get_weights()"
      ],
      "metadata": {
        "id": "JEw_CGqeJUop"
      },
      "execution_count": null,
      "outputs": []
    },
    {
      "cell_type": "code",
      "source": [
        "x_train.shape"
      ],
      "metadata": {
        "colab": {
          "base_uri": "https://localhost:8080/"
        },
        "id": "mWCkeOfRY0TF",
        "outputId": "6b0ce540-a1b5-4172-847f-047235bc27cc"
      },
      "execution_count": null,
      "outputs": [
        {
          "output_type": "execute_result",
          "data": {
            "text/plain": [
              "(8000, 11)"
            ]
          },
          "metadata": {},
          "execution_count": 19
        }
      ]
    },
    {
      "cell_type": "code",
      "source": [
        "weights"
      ],
      "metadata": {
        "colab": {
          "base_uri": "https://localhost:8080/"
        },
        "id": "xaNsykjWJr8H",
        "outputId": "5be774f4-c1e8-4440-dd8e-a1957922f7fa"
      },
      "execution_count": null,
      "outputs": [
        {
          "output_type": "execute_result",
          "data": {
            "text/plain": [
              "array([[ 0.9093536 ,  0.17919841,  0.22789004, -0.7555777 , -0.2913165 ,\n",
              "         0.41806325,  0.07937427,  0.7748592 , -0.05594359, -0.26894012,\n",
              "        -1.136222  , -0.08424135,  0.44454297, -0.31490913, -0.00207081,\n",
              "         0.13430567],\n",
              "       [-0.56306005,  0.72746944,  0.33524373,  0.8196258 ,  0.27822617,\n",
              "        -0.00774604,  0.7291872 ,  0.31986097,  0.5540162 ,  0.30093887,\n",
              "         0.411449  ,  0.4584858 , -0.2643253 , -0.00432573, -0.23075719,\n",
              "         0.5337729 ],\n",
              "       [-0.2168069 , -0.5261103 , -0.00121209, -0.11076826, -0.1861363 ,\n",
              "        -0.16034935,  0.75392646, -0.3248911 , -0.1691869 ,  0.3842917 ,\n",
              "         0.9110233 ,  0.42419195,  0.6693994 ,  0.4074523 ,  0.40073675,\n",
              "        -0.7593623 ],\n",
              "       [-0.22663628,  0.09225993, -0.19419648, -0.04716428,  0.02885077,\n",
              "         0.19612548, -0.00636053, -0.13869616, -0.01064887, -0.04951925,\n",
              "        -0.11406846,  0.03196922, -0.32963267,  0.653379  , -0.49698853,\n",
              "         0.5865451 ],\n",
              "       [ 0.41930547, -0.52821493, -0.6419995 , -0.01566105, -0.05257917,\n",
              "         0.062785  , -0.09617766,  0.6818173 ,  1.0838212 ,  0.60850984,\n",
              "         0.4620199 ,  0.2448501 ,  0.38552377,  0.0715764 ,  0.23059566,\n",
              "         0.73570216],\n",
              "       [-0.23293616, -0.3511855 ,  0.21694775, -0.285139  ,  0.01426571,\n",
              "         0.8458109 ,  0.2777668 ,  0.20273067,  0.02495378, -0.7133516 ,\n",
              "        -0.06633085, -0.24194151,  0.43335313, -0.9429071 , -0.21456848,\n",
              "        -0.38338715],\n",
              "       [ 0.41555092,  0.5267087 ,  0.08185632, -0.04100196,  1.0257931 ,\n",
              "        -0.87092865, -0.7522305 ,  0.09294683, -0.03685192,  0.34782833,\n",
              "         0.5357864 ,  0.5715621 , -0.70057327, -0.4451789 ,  0.56057435,\n",
              "        -0.31807184],\n",
              "       [ 1.1010361 , -0.22795328, -0.51309735,  0.7927731 ,  0.9898753 ,\n",
              "         0.73999935, -0.32139772, -0.8463136 ,  0.94117475,  0.6247874 ,\n",
              "        -0.67348015,  0.33562383,  0.4066467 ,  0.6780473 , -0.04311827,\n",
              "        -1.1015912 ],\n",
              "       [-0.24708174, -0.14665383, -0.08203848, -0.3248766 ,  0.14067395,\n",
              "        -0.07427227,  0.3764333 ,  0.13500059,  0.17733742,  0.4091248 ,\n",
              "         0.04688878,  0.84305793, -0.21904512,  0.00611872, -0.4602999 ,\n",
              "        -0.16896601],\n",
              "       [-0.26657957, -0.12502523, -0.314979  , -0.7655326 ,  0.19030562,\n",
              "        -0.79804856,  0.748551  , -0.45155108,  0.60133356, -0.05283756,\n",
              "         0.69893414,  0.31216007, -0.19603756, -0.11218058,  0.63200027,\n",
              "        -0.4010659 ],\n",
              "       [ 0.42605862,  0.45758322, -0.39377642, -0.24270816,  0.3817213 ,\n",
              "         0.09727027, -0.2976182 , -0.21161777, -0.23394866,  0.29492313,\n",
              "         0.23652498,  1.0210365 ,  0.7702494 ,  0.0386401 , -0.39258513,\n",
              "         0.75696594]], dtype=float32)"
            ]
          },
          "metadata": {},
          "execution_count": 35
        }
      ]
    },
    {
      "cell_type": "code",
      "source": [
        " bias"
      ],
      "metadata": {
        "colab": {
          "base_uri": "https://localhost:8080/"
        },
        "id": "trDaVpTTKz9F",
        "outputId": "bfd46a06-067b-4753-8dfc-beb58cee3eb0"
      },
      "execution_count": null,
      "outputs": [
        {
          "output_type": "execute_result",
          "data": {
            "text/plain": [
              "array([-0.0373496 ,  0.36547828,  0.39188376,  0.2534216 , -0.17080712,\n",
              "        0.06741191,  0.07138667,  0.18356113, -0.00813349, -0.13482028,\n",
              "        0.12518026,  0.18880463, -0.06491996,  0.20577395,  0.37797546,\n",
              "        0.01205343], dtype=float32)"
            ]
          },
          "metadata": {},
          "execution_count": 36
        }
      ]
    },
    {
      "cell_type": "code",
      "source": [
        "type(weights)\n",
        "\n",
        "weights.shape"
      ],
      "metadata": {
        "colab": {
          "base_uri": "https://localhost:8080/"
        },
        "id": "CTEJENFWK0w6",
        "outputId": "bfc51a31-7572-4656-b76e-cfadd937d011"
      },
      "execution_count": null,
      "outputs": [
        {
          "output_type": "execute_result",
          "data": {
            "text/plain": [
              "(11, 16)"
            ]
          },
          "metadata": {},
          "execution_count": 40
        }
      ]
    },
    {
      "cell_type": "code",
      "source": [
        "# ==============================\n",
        "# Evaluate model\n",
        "# ==============================\n",
        "# Training history visualization\n",
        "plt.plot(history.history['accuracy'], label='Train Accuracy')\n",
        "plt.plot(history.history['val_accuracy'], label='Validation Accuracy', color='red')\n",
        "plt.legend()\n",
        "plt.title(\"Model Accuracy\")\n",
        "plt.show()\n",
        "\n",
        "plt.plot(history.history['loss'], label='Train Loss')\n",
        "plt.plot(history.history['val_loss'], label='Validation Loss', color='red')\n",
        "plt.legend()\n",
        "plt.title(\"Model Loss\")\n",
        "plt.show()"
      ],
      "metadata": {
        "colab": {
          "base_uri": "https://localhost:8080/",
          "height": 887
        },
        "id": "Zxt0i76DK4RF",
        "outputId": "b4d55df4-9325-45f8-9ea3-cef44e9c5af2"
      },
      "execution_count": null,
      "outputs": [
        {
          "output_type": "display_data",
          "data": {
            "text/plain": [
              "<Figure size 640x480 with 1 Axes>"
            ],
            "image/png": "[encoded data removed]"
          },
          "metadata": {}
        },
        {
          "output_type": "display_data",
          "data": {
            "text/plain": [
              "<Figure size 640x480 with 1 Axes>"
            ],
            "image/png": "[encoded data removed]"
          },
          "metadata": {}
        }
      ]
    },
    {
      "cell_type": "code",
      "source": [
        "# ==============================\n",
        "# Predictions\n",
        "# ==============================\n",
        "y_pred_probs = model.predict(x_test)         # Probabilities\n",
        "y_pred = (y_pred_probs > 0.5).astype(int)    # Convert to 0/1\n",
        "\n",
        "# Confusion Matrix & Accuracy\n",
        "cm = confusion_matrix(y_test, y_pred)\n",
        "print(\"Confusion Matrix:\\n\", cm)\n",
        "\n",
        "test_accuracy = accuracy_score(y_test, y_pred)\n",
        "print(\"Test Accuracy:\", test_accuracy)"
      ],
      "metadata": {
        "colab": {
          "base_uri": "https://localhost:8080/"
        },
        "id": "oGYOVKfVLFL8",
        "outputId": "d40a4def-346d-4702-e91b-b8a5b8098051"
      },
      "execution_count": null,
      "outputs": [
        {
          "output_type": "stream",
          "name": "stdout",
          "text": [
            "\u001b[1m63/63\u001b[0m \u001b[32m━━━━━━━━━━━━━━━━━━━━\u001b[0m\u001b[37m\u001b[0m \u001b[1m1s\u001b[0m 6ms/step\n",
            "Confusion Matrix:\n",
            " [[1521   86]\n",
            " [ 214  179]]\n",
            "Test Accuracy: 0.85\n"
          ]
        }
      ]
    }
  ]
}